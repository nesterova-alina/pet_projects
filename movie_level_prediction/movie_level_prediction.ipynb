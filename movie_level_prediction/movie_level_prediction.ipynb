{
 "cells": [
  {
   "cell_type": "markdown",
   "metadata": {
    "toc": true
   },
   "source": [
    "<h1>Содержание<span class=\"tocSkip\"></span></h1>\n",
    "<div class=\"toc\"><ul class=\"toc-item\"><li><ul class=\"toc-item\"><li><ul class=\"toc-item\"><li><span><a href=\"#Импорт-библиотек\" data-toc-modified-id=\"Импорт-библиотек-0.0.1\">Импорт библиотек</a></span></li></ul></li></ul></li><li><span><a href=\"#Подготовка-данных\" data-toc-modified-id=\"Подготовка-данных-1\">Подготовка данных</a></span><ul class=\"toc-item\"><li><span><a href=\"#Загрузка-и-обработка-исходных-данных\" data-toc-modified-id=\"Загрузка-и-обработка-исходных-данных-1.1\">Загрузка и обработка исходных данных</a></span></li><li><span><a href=\"#Загрузка-и-обработка-дополнительных-данных\" data-toc-modified-id=\"Загрузка-и-обработка-дополнительных-данных-1.2\">Загрузка и обработка дополнительных данных</a></span></li><li><span><a href=\"#Подготовка-целевого-признака\" data-toc-modified-id=\"Подготовка-целевого-признака-1.3\">Подготовка целевого признака</a></span></li><li><span><a href=\"#Подготовка-субтитров\" data-toc-modified-id=\"Подготовка-субтитров-1.4\">Подготовка субтитров</a></span></li><li><span><a href=\"#Объединение-данных\" data-toc-modified-id=\"Объединение-данных-1.5\">Объединение данных</a></span></li><li><span><a href=\"#Подготовка-данных-к-обучению:-векторизация-текста,-разделение-на-обучающую-и-тестовую-выборки\" data-toc-modified-id=\"Подготовка-данных-к-обучению:-векторизация-текста,-разделение-на-обучающую-и-тестовую-выборки-1.6\">Подготовка данных к обучению: векторизация текста, разделение на обучающую и тестовую выборки</a></span></li><li><span><a href=\"#Вывод\" data-toc-modified-id=\"Вывод-1.7\">Вывод</a></span></li></ul></li><li><span><a href=\"#Обучение-моделей\" data-toc-modified-id=\"Обучение-моделей-2\">Обучение моделей</a></span><ul class=\"toc-item\"><li><span><a href=\"#Логистическая-регрессия\" data-toc-modified-id=\"Логистическая-регрессия-2.1\">Логистическая регрессия</a></span></li><li><span><a href=\"#Случайный-лес\" data-toc-modified-id=\"Случайный-лес-2.2\">Случайный лес</a></span></li><li><span><a href=\"#Градиентный-бустинг-CatBoost\" data-toc-modified-id=\"Градиентный-бустинг-CatBoost-2.3\">Градиентный бустинг CatBoost</a></span></li><li><span><a href=\"#BERT\" data-toc-modified-id=\"BERT-2.4\">BERT</a></span></li><li><span><a href=\"#Сравнение-моделей\" data-toc-modified-id=\"Сравнение-моделей-2.5\">Сравнение моделей</a></span></li><li><span><a href=\"#Вывод\" data-toc-modified-id=\"Вывод-2.6\">Вывод</a></span></li></ul></li><li><span><a href=\"#Проверка-моделей-на-тестовой-выборке\" data-toc-modified-id=\"Проверка-моделей-на-тестовой-выборке-3\">Проверка моделей на тестовой выборке</a></span><ul class=\"toc-item\"><li><span><a href=\"#Градиентный-бустинг-CatBoost\" data-toc-modified-id=\"Градиентный-бустинг-CatBoost-3.1\">Градиентный бустинг CatBoost</a></span></li><li><span><a href=\"#BERT\" data-toc-modified-id=\"BERT-3.2\">BERT</a></span></li><li><span><a href=\"#Наивная-модель-DummyClassifier\" data-toc-modified-id=\"Наивная-модель-DummyClassifier-3.3\">Наивная модель DummyClassifier</a></span></li></ul></li><li><span><a href=\"#Выводы\" data-toc-modified-id=\"Выводы-4\">Выводы</a></span></li></ul></div>"
   ]
  },
  {
   "cell_type": "markdown",
   "metadata": {},
   "source": [
    "# Прогнозирование уровня сложности фильмов на английском языке"
   ]
  },
  {
   "cell_type": "markdown",
   "metadata": {},
   "source": [
    "Просмотр фильмов на оригинальном языке - популярный и действенный метод ускорить изучение иностанного языка. При этом важно выбрать фильм, который подходит студенту по уровню сложности изучаемого языка: понимание 50-70% диалогов фильма будет оптимальным для продуктивного обучения.   \n",
    "\n",
    "**Цель проекта:** разработать алгоритм машинного обучения для автоматического определения уровня сложности англоязычных фильмов.\n",
    "\n",
    "**Задачи:**  \n",
    "- выполнить подготовку текстовых данных\n",
    "- обучить несколько моделей ML на данных, выбрать лучшую модель\n",
    "- расширить датасет, обучить модель на расширенных данных\n"
   ]
  },
  {
   "cell_type": "markdown",
   "metadata": {},
   "source": [
    "#### Импорт библиотек"
   ]
  },
  {
   "cell_type": "code",
   "execution_count": 1,
   "metadata": {
    "scrolled": true
   },
   "outputs": [],
   "source": [
    "# установка необходимых библиотек\n",
    "\n",
    "#!pip3 install nltk\n",
    "#!pip3 install textblob\n",
    "#!pip3 install catboost\n",
    "#!pip3 install xgboost"
   ]
  },
  {
   "cell_type": "code",
   "execution_count": 2,
   "metadata": {},
   "outputs": [],
   "source": [
    "import pandas as pd\n",
    "import numpy as np\n",
    "import seaborn as sns\n",
    "import matplotlib.pyplot as plt\n",
    "\n",
    "from tqdm import notebook\n",
    "\n",
    "import pysrt\n",
    "import re\n",
    "import string\n",
    "from pathlib import Path\n",
    "  \n",
    "import spacy\n",
    "import nltk\n",
    "from nltk.corpus import stopwords\n",
    "\n",
    "from sklearn.model_selection import train_test_split\n",
    "from sklearn.model_selection import RandomizedSearchCV\n",
    "from sklearn.model_selection import GridSearchCV\n",
    "from sklearn.feature_extraction.text import TfidfVectorizer\n",
    "\n",
    "from sklearn.ensemble import RandomForestClassifier\n",
    "from sklearn.linear_model import LogisticRegression\n",
    "from sklearn.dummy import DummyClassifier\n",
    "\n",
    "from catboost import Pool, CatBoostClassifier\n",
    "\n",
    "import torch\n",
    "import transformers\n",
    "\n",
    "from sklearn.metrics import accuracy_score\n",
    "\n",
    "RANDOM_STATE = 12345\n",
    "\n",
    "\n",
    "import warnings\n",
    "warnings.simplefilter(\"ignore\", ResourceWarning)\n",
    "warnings.simplefilter(\"ignore\", FutureWarning)"
   ]
  },
  {
   "cell_type": "code",
   "execution_count": 3,
   "metadata": {},
   "outputs": [
    {
     "name": "stderr",
     "output_type": "stream",
     "text": [
      "[nltk_data] Downloading package wordnet to /home/alina/nltk_data...\n",
      "[nltk_data]   Package wordnet is already up-to-date!\n",
      "[nltk_data] Downloading package punkt to /home/alina/nltk_data...\n",
      "[nltk_data]   Package punkt is already up-to-date!\n",
      "[nltk_data] Downloading package omw-1.4 to /home/alina/nltk_data...\n",
      "[nltk_data]   Package omw-1.4 is already up-to-date!\n",
      "[nltk_data] Downloading package stopwords to /home/alina/nltk_data...\n",
      "[nltk_data]   Package stopwords is already up-to-date!\n"
     ]
    },
    {
     "data": {
      "text/plain": [
       "True"
      ]
     },
     "execution_count": 3,
     "metadata": {},
     "output_type": "execute_result"
    }
   ],
   "source": [
    "nltk.download('wordnet')\n",
    "nltk.download('punkt')\n",
    "nltk.download('omw-1.4')\n",
    "nltk.download('stopwords')"
   ]
  },
  {
   "cell_type": "markdown",
   "metadata": {},
   "source": [
    "## Подготовка данных"
   ]
  },
  {
   "cell_type": "markdown",
   "metadata": {},
   "source": [
    "### Загрузка и обработка исходных данных\n",
    "\n",
    "Прочитаем файл с исходными данными и сохраним его в переменной `df`:"
   ]
  },
  {
   "cell_type": "code",
   "execution_count": 4,
   "metadata": {},
   "outputs": [],
   "source": [
    "df = pd.read_csv('data/labels.csv')"
   ]
  },
  {
   "cell_type": "markdown",
   "metadata": {},
   "source": [
    "Для ознакомления с данными выведем на экран информацию о таблице и первые 10 строк таблицы:"
   ]
  },
  {
   "cell_type": "code",
   "execution_count": 5,
   "metadata": {
    "scrolled": false
   },
   "outputs": [
    {
     "name": "stdout",
     "output_type": "stream",
     "text": [
      "<class 'pandas.core.frame.DataFrame'>\n",
      "RangeIndex: 88 entries, 0 to 87\n",
      "Data columns (total 4 columns):\n",
      " #   Column      Non-Null Count  Dtype \n",
      "---  ------      --------------  ----- \n",
      " 0   Movie       88 non-null     object\n",
      " 1   Kinopoisk   69 non-null     object\n",
      " 2   Level       88 non-null     object\n",
      " 3   Subtitles   88 non-null     object\n",
      "dtypes: object(4)\n",
      "memory usage: 2.9+ KB\n",
      "None\n"
     ]
    },
    {
     "data": {
      "text/html": [
       "<div>\n",
       "<style scoped>\n",
       "    .dataframe tbody tr th:only-of-type {\n",
       "        vertical-align: middle;\n",
       "    }\n",
       "\n",
       "    .dataframe tbody tr th {\n",
       "        vertical-align: top;\n",
       "    }\n",
       "\n",
       "    .dataframe thead th {\n",
       "        text-align: right;\n",
       "    }\n",
       "</style>\n",
       "<table border=\"1\" class=\"dataframe\">\n",
       "  <thead>\n",
       "    <tr style=\"text-align: right;\">\n",
       "      <th></th>\n",
       "      <th>Movie</th>\n",
       "      <th>Kinopoisk</th>\n",
       "      <th>Level</th>\n",
       "      <th>Subtitles</th>\n",
       "    </tr>\n",
       "  </thead>\n",
       "  <tbody>\n",
       "    <tr>\n",
       "      <th>0</th>\n",
       "      <td>Forrest Gump</td>\n",
       "      <td>Rus sub</td>\n",
       "      <td>A2/A2+, B1</td>\n",
       "      <td>Yes</td>\n",
       "    </tr>\n",
       "    <tr>\n",
       "      <th>1</th>\n",
       "      <td>Finding Nemo\\n</td>\n",
       "      <td>Everything</td>\n",
       "      <td>A2/A2+</td>\n",
       "      <td>Yes</td>\n",
       "    </tr>\n",
       "    <tr>\n",
       "      <th>2</th>\n",
       "      <td>Cast away\\n</td>\n",
       "      <td>Paid, Rus sub</td>\n",
       "      <td>A2/A2+</td>\n",
       "      <td>Yes</td>\n",
       "    </tr>\n",
       "    <tr>\n",
       "      <th>3</th>\n",
       "      <td>The invisible man (2020)\\n</td>\n",
       "      <td>Paid, Rus lan</td>\n",
       "      <td>A2/A2+</td>\n",
       "      <td>Yes</td>\n",
       "    </tr>\n",
       "    <tr>\n",
       "      <th>4</th>\n",
       "      <td>Back to the future\\n</td>\n",
       "      <td>Rus sub</td>\n",
       "      <td>A2/A2+</td>\n",
       "      <td>Yes</td>\n",
       "    </tr>\n",
       "    <tr>\n",
       "      <th>5</th>\n",
       "      <td>Twilight\\n</td>\n",
       "      <td>No subs, Paid</td>\n",
       "      <td>A2/A2+</td>\n",
       "      <td>Yes</td>\n",
       "    </tr>\n",
       "    <tr>\n",
       "      <th>6</th>\n",
       "      <td>Toy story</td>\n",
       "      <td>Everything</td>\n",
       "      <td>A2/A2+</td>\n",
       "      <td>Yes</td>\n",
       "    </tr>\n",
       "    <tr>\n",
       "      <th>7</th>\n",
       "      <td>The cabin in the woods\\n</td>\n",
       "      <td>No subs, Paid</td>\n",
       "      <td>A2/A2+</td>\n",
       "      <td>Yes</td>\n",
       "    </tr>\n",
       "    <tr>\n",
       "      <th>8</th>\n",
       "      <td>Up</td>\n",
       "      <td>Everything</td>\n",
       "      <td>A2/A2+</td>\n",
       "      <td>Yes</td>\n",
       "    </tr>\n",
       "    <tr>\n",
       "      <th>9</th>\n",
       "      <td>Dredd\\n</td>\n",
       "      <td>Rus lan</td>\n",
       "      <td>A2/A2+</td>\n",
       "      <td>Yes</td>\n",
       "    </tr>\n",
       "  </tbody>\n",
       "</table>\n",
       "</div>"
      ],
      "text/plain": [
       "                        Movie     Kinopoisk        Level Subtitles\n",
       "0                Forrest Gump        Rus sub  A2/A2+, B1       Yes\n",
       "1              Finding Nemo\\n     Everything      A2/A2+       Yes\n",
       "2                 Cast away\\n  Paid, Rus sub      A2/A2+       Yes\n",
       "3  The invisible man (2020)\\n  Paid, Rus lan      A2/A2+       Yes\n",
       "4        Back to the future\\n        Rus sub      A2/A2+       Yes\n",
       "5                  Twilight\\n  No subs, Paid      A2/A2+       Yes\n",
       "6                   Toy story     Everything      A2/A2+       Yes\n",
       "7    The cabin in the woods\\n  No subs, Paid      A2/A2+       Yes\n",
       "8                          Up     Everything      A2/A2+       Yes\n",
       "9                     Dredd\\n        Rus lan      A2/A2+       Yes"
      ]
     },
     "execution_count": 5,
     "metadata": {},
     "output_type": "execute_result"
    }
   ],
   "source": [
    "print(df.info())\n",
    "df.head(10)"
   ]
  },
  {
   "cell_type": "markdown",
   "metadata": {},
   "source": [
    "В нашем распоряжении информация об уровнях сложности 88 фильмов. \n",
    "Текстовые признаки предстоит подготовить из файлов с субтитрами, целевым признаком является колонка **Level**.  \n",
    "\n",
    "Названия фильмов имеют разный формат и содержат лишние символы. Для удобства данльнейшей обработки данных приведём названия к одинаковому виду."
   ]
  },
  {
   "cell_type": "code",
   "execution_count": 6,
   "metadata": {},
   "outputs": [],
   "source": [
    "def title_improve(column):\n",
    "    # удалим лишние знаки '\\n'\n",
    "    column = column.map(lambda x: x.replace('\\n', ''))\n",
    "    # приведём слова к нижнему регистру, удалим лишние символы\n",
    "    column = column.map(lambda x: re.sub(r\"[^0-9a-z'\\-\\s+]\", \"\", x.lower()))\n",
    "    # удалим пробелы в конце названий\n",
    "    column = column.map(lambda x: re.sub(r\"\\s$\", \"\", x))\n",
    "    # заменим пробелы на нижнее подчеркивание\n",
    "    column = column.map(lambda x: x.replace(' ', '_').replace('__', '_'))\n",
    "    return column"
   ]
  },
  {
   "cell_type": "code",
   "execution_count": 7,
   "metadata": {},
   "outputs": [],
   "source": [
    "df['Movie'] = title_improve(df['Movie'])"
   ]
  },
  {
   "cell_type": "markdown",
   "metadata": {},
   "source": [
    "Проверим, как прошло преобразование названий фильмов, а также выведем уникальные значения оставшихся колонок."
   ]
  },
  {
   "cell_type": "code",
   "execution_count": 8,
   "metadata": {
    "scrolled": true
   },
   "outputs": [
    {
     "name": "stdout",
     "output_type": "stream",
     "text": [
      "Movie\n",
      "['10_cloverfield_lane' '10_things_i_hate_about_you' 'a_knights_tale'\n",
      " 'a_star_is_born' 'aladdin' 'all_dogs_go_to_heaven' 'an_american_tail'\n",
      " 'babe' 'back_to_the_future' 'batman_begins' 'beauty_and_the_beast_film'\n",
      " 'before_i_go_to_sleep' 'before_sunrise' 'before_sunset' 'braveheart'\n",
      " 'bridget_jones_diary' 'cast_away' 'catch_me_if_you_can' 'clueless'\n",
      " 'deadpool' 'die_hard' 'dredd' 'dune'\n",
      " 'eurovision_song_contest_the_story_of_fire_saga' 'fight_club'\n",
      " 'finding_nemo' 'forrest_gump' 'good_will_hunting' 'groundhog_day'\n",
      " 'harry_potter_1' 'her' 'home_alone' 'hook' 'house_of_gucci' 'inside_out'\n",
      " 'its_a_wonderful_life' 'knives_out' 'kubo_and_the_two_strings'\n",
      " 'liar_liar' 'lie_to_me_series' 'lion' 'logan' 'love_actually' 'mamma_mia'\n",
      " 'mary_poppins_returns' 'matilda' 'meet_the_parents' 'moulin_rouge'\n",
      " 'mrs_doubtfire' 'my_big_fat_greek_wedding' 'notting_hill'\n",
      " 'pirates_of_the_caribbean_1' 'pleasantville' 'powder' 'pulp_fiction'\n",
      " 'ready_or_not' 'shrek' 'sleepless_in_seattle' 'soul' 'the_blind_side'\n",
      " 'the_break-up' 'the_cabin_in_the_woods' 'the_fault_in_our_stars'\n",
      " 'the_graduate' 'the_greatest_showman' 'the_hangover' 'the_holiday'\n",
      " 'the_invisible_man_2020' 'the_jungle_book' 'the_kings_speech'\n",
      " 'the_lion_king' 'the_lord_of_the_rings' 'the_man_called_flinstone'\n",
      " 'the_secret_life_of_walter_mitty' 'the_shawshank_redemption'\n",
      " 'the_social_network' 'the_terminal' 'the_terminator'\n",
      " 'the_theory_of_everything' 'the_usual_suspects' 'the_walking_dead_series'\n",
      " 'titanic' 'toy_story' 'twilight' 'up' 'venom' 'warm_bodies'\n",
      " 'were_the_millers']\n",
      "\n",
      "Kinopoisk \n",
      "['Everything' 'Everything, Paid' 'No subs' 'No subs, Paid' 'Nope' 'Paid'\n",
      " 'Paid, Rus lan' 'Paid, Rus sub' 'Rus lan' 'Rus sub' nan]\n",
      "\n",
      "Level\n",
      "['A2/A2+' 'A2/A2+, B1' 'B1' 'B1, B2' 'B2']\n",
      "\n",
      "Subtitles\n",
      "['No' 'Yes']\n",
      "\n"
     ]
    }
   ],
   "source": [
    "for _ in df.columns:\n",
    "    print(_)\n",
    "    print(df[_].sort_values().unique())\n",
    "    print()"
   ]
  },
  {
   "cell_type": "markdown",
   "metadata": {},
   "source": [
    "Названия фильмов теперь имеют одинаковый вид.  \n",
    "В колонке с целевым признаком содержится 5 категорий, некоторые категории содержат в себе до трех подкатегорий, поэтому в дальнейшем мы уменьшим количество категорий, объединив их в наименьшую по уровню категорию для каждого случая.  \n",
    "\n",
    "Проверим, не дублируются ли названия фильмов."
   ]
  },
  {
   "cell_type": "code",
   "execution_count": 9,
   "metadata": {},
   "outputs": [
    {
     "data": {
      "text/plain": [
       "0"
      ]
     },
     "execution_count": 9,
     "metadata": {},
     "output_type": "execute_result"
    }
   ],
   "source": [
    "df['Movie'].duplicated().sum()"
   ]
  },
  {
   "cell_type": "markdown",
   "metadata": {},
   "source": [
    "### Загрузка и обработка дополнительных данных"
   ]
  },
  {
   "cell_type": "markdown",
   "metadata": {
    "scrolled": true
   },
   "source": [
    "Загрузим дополнительную таблицу `df_new` с фильмами, которые удалось найти в процессе работы над проектом. Сразу обработаем названия фильмов функцией `title_improve`, выведем информацию о таблице, первые 5 строк и количество дубликатов.    "
   ]
  },
  {
   "cell_type": "code",
   "execution_count": 10,
   "metadata": {},
   "outputs": [
    {
     "name": "stdout",
     "output_type": "stream",
     "text": [
      "<class 'pandas.core.frame.DataFrame'>\n",
      "RangeIndex: 28 entries, 0 to 27\n",
      "Data columns (total 4 columns):\n",
      " #   Column      Non-Null Count  Dtype  \n",
      "---  ------      --------------  -----  \n",
      " 0   Movie       28 non-null     object \n",
      " 1   Kinopoisk   0 non-null      float64\n",
      " 2   Level       28 non-null     object \n",
      " 3   Subtitles   0 non-null      float64\n",
      "dtypes: float64(2), object(2)\n",
      "memory usage: 1.0+ KB\n",
      "None\n",
      "DUPLICATES: 0\n"
     ]
    },
    {
     "data": {
      "text/html": [
       "<div>\n",
       "<style scoped>\n",
       "    .dataframe tbody tr th:only-of-type {\n",
       "        vertical-align: middle;\n",
       "    }\n",
       "\n",
       "    .dataframe tbody tr th {\n",
       "        vertical-align: top;\n",
       "    }\n",
       "\n",
       "    .dataframe thead th {\n",
       "        text-align: right;\n",
       "    }\n",
       "</style>\n",
       "<table border=\"1\" class=\"dataframe\">\n",
       "  <thead>\n",
       "    <tr style=\"text-align: right;\">\n",
       "      <th></th>\n",
       "      <th>Movie</th>\n",
       "      <th>Kinopoisk</th>\n",
       "      <th>Level</th>\n",
       "      <th>Subtitles</th>\n",
       "    </tr>\n",
       "  </thead>\n",
       "  <tbody>\n",
       "    <tr>\n",
       "      <th>0</th>\n",
       "      <td>kubo_and_the_two_strings</td>\n",
       "      <td>NaN</td>\n",
       "      <td>B1</td>\n",
       "      <td>NaN</td>\n",
       "    </tr>\n",
       "    <tr>\n",
       "      <th>1</th>\n",
       "      <td>charlie_and_the_chocolate_factory</td>\n",
       "      <td>NaN</td>\n",
       "      <td>B1</td>\n",
       "      <td>NaN</td>\n",
       "    </tr>\n",
       "    <tr>\n",
       "      <th>2</th>\n",
       "      <td>cinderella</td>\n",
       "      <td>NaN</td>\n",
       "      <td>B1</td>\n",
       "      <td>NaN</td>\n",
       "    </tr>\n",
       "    <tr>\n",
       "      <th>3</th>\n",
       "      <td>ferdinand</td>\n",
       "      <td>NaN</td>\n",
       "      <td>B1</td>\n",
       "      <td>NaN</td>\n",
       "    </tr>\n",
       "    <tr>\n",
       "      <th>4</th>\n",
       "      <td>inside_out</td>\n",
       "      <td>NaN</td>\n",
       "      <td>B1</td>\n",
       "      <td>NaN</td>\n",
       "    </tr>\n",
       "  </tbody>\n",
       "</table>\n",
       "</div>"
      ],
      "text/plain": [
       "                               Movie  Kinopoisk  Level  Subtitles\n",
       "0           kubo_and_the_two_strings         NaN    B1        NaN\n",
       "1  charlie_and_the_chocolate_factory         NaN    B1        NaN\n",
       "2                         cinderella         NaN    B1        NaN\n",
       "3                          ferdinand         NaN    B1        NaN\n",
       "4                         inside_out         NaN    B1        NaN"
      ]
     },
     "execution_count": 10,
     "metadata": {},
     "output_type": "execute_result"
    }
   ],
   "source": [
    "df_new = pd.read_csv('data/labels_new.csv')\n",
    "    \n",
    "\n",
    "df_new['Movie'] = title_improve(df_new['Movie'])\n",
    "print(df_new.info())\n",
    "print('DUPLICATES:', df_new['Movie'].duplicated().sum())\n",
    "df_new.head()"
   ]
  },
  {
   "cell_type": "markdown",
   "metadata": {},
   "source": [
    "Посмотрим на уникальные значения каждого столбца новой таблицы."
   ]
  },
  {
   "cell_type": "code",
   "execution_count": 11,
   "metadata": {},
   "outputs": [
    {
     "name": "stdout",
     "output_type": "stream",
     "text": [
      "Movie\n",
      "['banking_on_bitcoin' 'bridget_joness_baby' 'cars'\n",
      " 'charlie_and_the_chocolate_factory' 'cinderella' 'despicable_me'\n",
      " 'enola_holmes' 'entrapment' 'ferdinand' 'inside_out' 'klaus'\n",
      " 'kubo_and_the_two_strings' 'made_of_honor' 'milada' 'mona_lisa_smile'\n",
      " 'oceans_eleven' 'oceans_twelve' 'ratatouille' 'sleepless_in_seattle'\n",
      " 'the_blind_side' 'the_devil_wears_prada' 'the_fundamentals_of_caring'\n",
      " 'the_intern' 'the_legend_of_tarzan' 'the_secret_life_of_pets'\n",
      " 'the_terminal' 'while_you_were_sleeping' 'zootopia']\n",
      "\n",
      "Kinopoisk \n",
      "[nan]\n",
      "\n",
      "Level\n",
      "['B1' 'B2' 'C1']\n",
      "\n",
      "Subtitles\n",
      "[nan]\n",
      "\n"
     ]
    }
   ],
   "source": [
    "for _ in df_new.columns:\n",
    "    print(_)\n",
    "    print(df_new[_].sort_values().unique())\n",
    "    print()"
   ]
  },
  {
   "cell_type": "markdown",
   "metadata": {},
   "source": [
    "В новой таблице содержатся 3 категории фильмов, среди которых одна новая - C1.\n",
    "\n",
    "Посмотрим, не дублируются ли названия фильмов в обеих таблицах:"
   ]
  },
  {
   "cell_type": "code",
   "execution_count": 12,
   "metadata": {},
   "outputs": [
    {
     "data": {
      "text/plain": [
       "5"
      ]
     },
     "execution_count": 12,
     "metadata": {},
     "output_type": "execute_result"
    }
   ],
   "source": [
    "df_new['Movie'].append(df['Movie']).duplicated().sum()"
   ]
  },
  {
   "cell_type": "markdown",
   "metadata": {},
   "source": [
    "Обе таблицы содержат  5 пересекающихся фильмов. При дальнейшем объединении этих таблиц необходимо будет удалить дубликаты."
   ]
  },
  {
   "cell_type": "markdown",
   "metadata": {},
   "source": [
    "### Подготовка целевого признака"
   ]
  },
  {
   "cell_type": "markdown",
   "metadata": {},
   "source": [
    "В обеих таблицах целевой признак имеет текстовый вид. Назначим для каждой категории номер и приведём целевой признак к типу `int` так, чтобы уровень фильма определялся по наименьшей по уровню владения языком категории.  \n",
    "Создадим таблицу с уровнями английского языка.  \n",
    "Начиная с уровня B2 начинается свободное владение языком, поэтому студенты с уровнем B2 и выше будут понимать как минимум 50-70% диалогов, даже если уровень фильма будет сложнее (например, C1 и C2), поэтому категории B2, C1, C2 объединим, присвоив им одну цифру."
   ]
  },
  {
   "cell_type": "code",
   "execution_count": 13,
   "metadata": {},
   "outputs": [
    {
     "data": {
      "text/html": [
       "<div>\n",
       "<style scoped>\n",
       "    .dataframe tbody tr th:only-of-type {\n",
       "        vertical-align: middle;\n",
       "    }\n",
       "\n",
       "    .dataframe tbody tr th {\n",
       "        vertical-align: top;\n",
       "    }\n",
       "\n",
       "    .dataframe thead th {\n",
       "        text-align: right;\n",
       "    }\n",
       "</style>\n",
       "<table border=\"1\" class=\"dataframe\">\n",
       "  <thead>\n",
       "    <tr style=\"text-align: right;\">\n",
       "      <th></th>\n",
       "      <th>category</th>\n",
       "      <th>number</th>\n",
       "    </tr>\n",
       "  </thead>\n",
       "  <tbody>\n",
       "    <tr>\n",
       "      <th>0</th>\n",
       "      <td>C2</td>\n",
       "      <td>1</td>\n",
       "    </tr>\n",
       "    <tr>\n",
       "      <th>1</th>\n",
       "      <td>C1</td>\n",
       "      <td>1</td>\n",
       "    </tr>\n",
       "    <tr>\n",
       "      <th>2</th>\n",
       "      <td>B2</td>\n",
       "      <td>1</td>\n",
       "    </tr>\n",
       "    <tr>\n",
       "      <th>3</th>\n",
       "      <td>B1</td>\n",
       "      <td>2</td>\n",
       "    </tr>\n",
       "    <tr>\n",
       "      <th>4</th>\n",
       "      <td>A2</td>\n",
       "      <td>3</td>\n",
       "    </tr>\n",
       "    <tr>\n",
       "      <th>5</th>\n",
       "      <td>A1</td>\n",
       "      <td>4</td>\n",
       "    </tr>\n",
       "  </tbody>\n",
       "</table>\n",
       "</div>"
      ],
      "text/plain": [
       "  category  number\n",
       "0       C2       1\n",
       "1       C1       1\n",
       "2       B2       1\n",
       "3       B1       2\n",
       "4       A2       3\n",
       "5       A1       4"
      ]
     },
     "execution_count": 13,
     "metadata": {},
     "output_type": "execute_result"
    }
   ],
   "source": [
    "cats = {'category': ['C2', 'C1', 'B2', 'B1', 'A2', 'A1'], 'number': [1, 1, 1, 2, 3 , 4]}\n",
    "levels = pd.DataFrame(data=cats)\n",
    "levels"
   ]
  },
  {
   "cell_type": "markdown",
   "metadata": {},
   "source": [
    "Созадим функцию, присваювающую числовое значение категории фильма согласно созданной таблице `levels`."
   ]
  },
  {
   "cell_type": "code",
   "execution_count": 14,
   "metadata": {},
   "outputs": [],
   "source": [
    "def film_level(data):\n",
    "    for _ in range(len(data)):\n",
    "        for c in range(len(levels)):\n",
    "            level = levels.loc[c, 'category']\n",
    "            number = levels.loc[c, 'number']\n",
    "            if level in data.loc[_, 'Level']:\n",
    "                data.loc[_, 'level_num'] = int(number)\n",
    "    data['level_num'] = data['level_num'].astype(int)\n",
    "    return data"
   ]
  },
  {
   "cell_type": "code",
   "execution_count": 15,
   "metadata": {},
   "outputs": [
    {
     "name": "stdout",
     "output_type": "stream",
     "text": [
      "<class 'pandas.core.frame.DataFrame'>\n",
      "RangeIndex: 88 entries, 0 to 87\n",
      "Data columns (total 5 columns):\n",
      " #   Column      Non-Null Count  Dtype \n",
      "---  ------      --------------  ----- \n",
      " 0   Movie       88 non-null     object\n",
      " 1   Kinopoisk   69 non-null     object\n",
      " 2   Level       88 non-null     object\n",
      " 3   Subtitles   88 non-null     object\n",
      " 4   level_num   88 non-null     int64 \n",
      "dtypes: int64(1), object(4)\n",
      "memory usage: 3.6+ KB\n",
      "None\n"
     ]
    },
    {
     "data": {
      "text/html": [
       "<div>\n",
       "<style scoped>\n",
       "    .dataframe tbody tr th:only-of-type {\n",
       "        vertical-align: middle;\n",
       "    }\n",
       "\n",
       "    .dataframe tbody tr th {\n",
       "        vertical-align: top;\n",
       "    }\n",
       "\n",
       "    .dataframe thead th {\n",
       "        text-align: right;\n",
       "    }\n",
       "</style>\n",
       "<table border=\"1\" class=\"dataframe\">\n",
       "  <thead>\n",
       "    <tr style=\"text-align: right;\">\n",
       "      <th></th>\n",
       "      <th>Movie</th>\n",
       "      <th>Kinopoisk</th>\n",
       "      <th>Level</th>\n",
       "      <th>Subtitles</th>\n",
       "      <th>level_num</th>\n",
       "    </tr>\n",
       "  </thead>\n",
       "  <tbody>\n",
       "    <tr>\n",
       "      <th>0</th>\n",
       "      <td>forrest_gump</td>\n",
       "      <td>Rus sub</td>\n",
       "      <td>A2/A2+, B1</td>\n",
       "      <td>Yes</td>\n",
       "      <td>3</td>\n",
       "    </tr>\n",
       "    <tr>\n",
       "      <th>1</th>\n",
       "      <td>finding_nemo</td>\n",
       "      <td>Everything</td>\n",
       "      <td>A2/A2+</td>\n",
       "      <td>Yes</td>\n",
       "      <td>3</td>\n",
       "    </tr>\n",
       "    <tr>\n",
       "      <th>2</th>\n",
       "      <td>cast_away</td>\n",
       "      <td>Paid, Rus sub</td>\n",
       "      <td>A2/A2+</td>\n",
       "      <td>Yes</td>\n",
       "      <td>3</td>\n",
       "    </tr>\n",
       "    <tr>\n",
       "      <th>3</th>\n",
       "      <td>the_invisible_man_2020</td>\n",
       "      <td>Paid, Rus lan</td>\n",
       "      <td>A2/A2+</td>\n",
       "      <td>Yes</td>\n",
       "      <td>3</td>\n",
       "    </tr>\n",
       "    <tr>\n",
       "      <th>4</th>\n",
       "      <td>back_to_the_future</td>\n",
       "      <td>Rus sub</td>\n",
       "      <td>A2/A2+</td>\n",
       "      <td>Yes</td>\n",
       "      <td>3</td>\n",
       "    </tr>\n",
       "  </tbody>\n",
       "</table>\n",
       "</div>"
      ],
      "text/plain": [
       "                    Movie     Kinopoisk        Level Subtitles  level_num\n",
       "0            forrest_gump        Rus sub  A2/A2+, B1       Yes          3\n",
       "1            finding_nemo     Everything      A2/A2+       Yes          3\n",
       "2               cast_away  Paid, Rus sub      A2/A2+       Yes          3\n",
       "3  the_invisible_man_2020  Paid, Rus lan      A2/A2+       Yes          3\n",
       "4      back_to_the_future        Rus sub      A2/A2+       Yes          3"
      ]
     },
     "execution_count": 15,
     "metadata": {},
     "output_type": "execute_result"
    }
   ],
   "source": [
    "# добавим столбец 'level_num' к исходным данным\n",
    "df = film_level(df)\n",
    "print(df.info())\n",
    "df.head()"
   ]
  },
  {
   "cell_type": "code",
   "execution_count": 16,
   "metadata": {},
   "outputs": [
    {
     "name": "stdout",
     "output_type": "stream",
     "text": [
      "<class 'pandas.core.frame.DataFrame'>\n",
      "RangeIndex: 28 entries, 0 to 27\n",
      "Data columns (total 5 columns):\n",
      " #   Column      Non-Null Count  Dtype  \n",
      "---  ------      --------------  -----  \n",
      " 0   Movie       28 non-null     object \n",
      " 1   Kinopoisk   0 non-null      float64\n",
      " 2   Level       28 non-null     object \n",
      " 3   Subtitles   0 non-null      float64\n",
      " 4   level_num   28 non-null     int64  \n",
      "dtypes: float64(2), int64(1), object(2)\n",
      "memory usage: 1.2+ KB\n",
      "None\n"
     ]
    },
    {
     "data": {
      "text/html": [
       "<div>\n",
       "<style scoped>\n",
       "    .dataframe tbody tr th:only-of-type {\n",
       "        vertical-align: middle;\n",
       "    }\n",
       "\n",
       "    .dataframe tbody tr th {\n",
       "        vertical-align: top;\n",
       "    }\n",
       "\n",
       "    .dataframe thead th {\n",
       "        text-align: right;\n",
       "    }\n",
       "</style>\n",
       "<table border=\"1\" class=\"dataframe\">\n",
       "  <thead>\n",
       "    <tr style=\"text-align: right;\">\n",
       "      <th></th>\n",
       "      <th>Movie</th>\n",
       "      <th>Kinopoisk</th>\n",
       "      <th>Level</th>\n",
       "      <th>Subtitles</th>\n",
       "      <th>level_num</th>\n",
       "    </tr>\n",
       "  </thead>\n",
       "  <tbody>\n",
       "    <tr>\n",
       "      <th>0</th>\n",
       "      <td>kubo_and_the_two_strings</td>\n",
       "      <td>NaN</td>\n",
       "      <td>B1</td>\n",
       "      <td>NaN</td>\n",
       "      <td>2</td>\n",
       "    </tr>\n",
       "    <tr>\n",
       "      <th>1</th>\n",
       "      <td>charlie_and_the_chocolate_factory</td>\n",
       "      <td>NaN</td>\n",
       "      <td>B1</td>\n",
       "      <td>NaN</td>\n",
       "      <td>2</td>\n",
       "    </tr>\n",
       "    <tr>\n",
       "      <th>2</th>\n",
       "      <td>cinderella</td>\n",
       "      <td>NaN</td>\n",
       "      <td>B1</td>\n",
       "      <td>NaN</td>\n",
       "      <td>2</td>\n",
       "    </tr>\n",
       "    <tr>\n",
       "      <th>3</th>\n",
       "      <td>ferdinand</td>\n",
       "      <td>NaN</td>\n",
       "      <td>B1</td>\n",
       "      <td>NaN</td>\n",
       "      <td>2</td>\n",
       "    </tr>\n",
       "    <tr>\n",
       "      <th>4</th>\n",
       "      <td>inside_out</td>\n",
       "      <td>NaN</td>\n",
       "      <td>B1</td>\n",
       "      <td>NaN</td>\n",
       "      <td>2</td>\n",
       "    </tr>\n",
       "  </tbody>\n",
       "</table>\n",
       "</div>"
      ],
      "text/plain": [
       "                               Movie  Kinopoisk  Level  Subtitles  level_num\n",
       "0           kubo_and_the_two_strings         NaN    B1        NaN          2\n",
       "1  charlie_and_the_chocolate_factory         NaN    B1        NaN          2\n",
       "2                         cinderella         NaN    B1        NaN          2\n",
       "3                          ferdinand         NaN    B1        NaN          2\n",
       "4                         inside_out         NaN    B1        NaN          2"
      ]
     },
     "execution_count": 16,
     "metadata": {},
     "output_type": "execute_result"
    }
   ],
   "source": [
    "# добавим столбец 'level_num' к дополнительным данным\n",
    "df_new = film_level(df_new)\n",
    "print(df_new.info())\n",
    "df_new.head()"
   ]
  },
  {
   "cell_type": "markdown",
   "metadata": {},
   "source": [
    "### Подготовка субтитров"
   ]
  },
  {
   "cell_type": "markdown",
   "metadata": {},
   "source": [
    "Для подготовки текстов к задаче машинного обучения необходимо провести следующие действия:\n",
    "- извлечь фразы из файлов с субтитрами\n",
    "- удалить из фраз пунктуацию, стоп-слова, html теги\n",
    "- провести лемматизацию слов\n",
    "\n",
    "Создадим функцию, выполняющую все перечисленные пункты для файла с субтитрами. Функция вернёт массив слов, использованных в каждом фильме."
   ]
  },
  {
   "cell_type": "code",
   "execution_count": 17,
   "metadata": {},
   "outputs": [],
   "source": [
    "def sub_processing(subs):\n",
    "    # initializing punctuations string\n",
    "    punc = '''!()-[]{};:'\"\\,<>./?@#$%^&*_~'''\n",
    "\n",
    "    stop_words = set(stopwords.words('english'))\n",
    "\n",
    "    # Initialize spacy 'en' model, keeping only tagger component needed for lemmatization\n",
    "    nlp = spacy.load('en_core_web_sm', disable=['parser', 'ner'])\n",
    "    \n",
    "    sub_prep = []\n",
    "\n",
    "    for _ in range(1,len(subs)):\n",
    "    \n",
    "    \n",
    "        doc = nlp(subs[_].text)  \n",
    "        # лемматизация\n",
    "        doc = \" \".join([word.lemma_ for word in doc])\n",
    "        # удаление пунктуации\n",
    "        for element in doc:\n",
    "            if element in punc:\n",
    "                doc = doc.replace(element, \"\") \n",
    "        # удаляем html теги\n",
    "        html=re.compile(r'<.*?>') \n",
    "        doc = html.sub(r'',doc) \n",
    "        \n",
    "        # удалим имена собственные (с заглавной буквы) и цифры\n",
    "        doc = re.sub(r\"\\s*[A-Z0-9]\\w*\\s*\", \"\", doc).strip().split()\n",
    "        \n",
    "        # удаление стоп-слов\n",
    "        doc = [word for word in doc if word not in stop_words]\n",
    "    \n",
    "        for _ in doc:\n",
    "            sub_prep.append(_)\n",
    "            \n",
    "    return sub_prep"
   ]
  },
  {
   "cell_type": "markdown",
   "metadata": {
    "scrolled": true
   },
   "source": [
    "Напишем также функцию, которая для каждого фильма находит в заданной папке соотвествующий файл с субтитрами и применяет к нему функцию `sub_processing`."
   ]
  },
  {
   "cell_type": "code",
   "execution_count": 18,
   "metadata": {},
   "outputs": [],
   "source": [
    "def sub_search_process(path, df, encoding='utf8'):\n",
    "    p = Path(path)\n",
    "    path_list = list(p.glob('*.srt'))\n",
    "\n",
    "    for i in notebook.tqdm(range(len(df))):\n",
    "        name = df.loc[i, 'Movie']\n",
    "    \n",
    "        for path_srt in path_list:\n",
    "            path_name = re.sub(r'\\([\\d{4}]+\\)',\"\", path_srt.stem.lower())\n",
    "            if (len(name.split('_')) == 1) and (len(path_name.split('_')) == 1):\n",
    "                if name == path_name:\n",
    "                    subs = pysrt.open(path_srt, encoding=encoding)\n",
    "                    df.loc[i, 'Sub'] = ' '.join(sub_processing(subs))\n",
    "            if (len(name.split('_')) > 1) and (len(path_name.split('_')) > 1):\n",
    "                if name.split('_')[0] == path_name.split('_')[0] and name.split('_')[1] == path_name.split('_')[1]:\n",
    "                    subs = pysrt.open(path_srt)\n",
    "                    df.loc[i, 'Sub'] = ' '.join(sub_processing(subs))\n",
    "    return df"
   ]
  },
  {
   "cell_type": "markdown",
   "metadata": {},
   "source": [
    "Обработаем субтитры для фильмов из двух таблиц с помощью созданных функций."
   ]
  },
  {
   "cell_type": "code",
   "execution_count": 19,
   "metadata": {},
   "outputs": [
    {
     "data": {
      "application/vnd.jupyter.widget-view+json": {
       "model_id": "d8bc93827a3e413d964c05defb8197d5",
       "version_major": 2,
       "version_minor": 0
      },
      "text/plain": [
       "  0%|          | 0/88 [00:00<?, ?it/s]"
      ]
     },
     "metadata": {},
     "output_type": "display_data"
    },
    {
     "name": "stdout",
     "output_type": "stream",
     "text": [
      "CPU times: user 6min 29s, sys: 936 ms, total: 6min 30s\n",
      "Wall time: 6min 31s\n"
     ]
    }
   ],
   "source": [
    "%%time\n",
    "df = sub_search_process('data/Subtitles/', df)"
   ]
  },
  {
   "cell_type": "code",
   "execution_count": 20,
   "metadata": {
    "scrolled": true
   },
   "outputs": [
    {
     "data": {
      "application/vnd.jupyter.widget-view+json": {
       "model_id": "716a4a5010c04a068f3b818c706b5407",
       "version_major": 2,
       "version_minor": 0
      },
      "text/plain": [
       "  0%|          | 0/28 [00:00<?, ?it/s]"
      ]
     },
     "metadata": {},
     "output_type": "display_data"
    },
    {
     "name": "stdout",
     "output_type": "stream",
     "text": [
      "CPU times: user 1min 58s, sys: 252 ms, total: 1min 58s\n",
      "Wall time: 1min 59s\n"
     ]
    }
   ],
   "source": [
    "%%time\n",
    "df_new = sub_search_process('data/subs_new/', df_new, encoding='latin-1')"
   ]
  },
  {
   "cell_type": "markdown",
   "metadata": {},
   "source": [
    "Проверим получившиеся таблицы."
   ]
  },
  {
   "cell_type": "code",
   "execution_count": 21,
   "metadata": {
    "scrolled": true
   },
   "outputs": [
    {
     "name": "stdout",
     "output_type": "stream",
     "text": [
      "<class 'pandas.core.frame.DataFrame'>\n",
      "RangeIndex: 88 entries, 0 to 87\n",
      "Data columns (total 6 columns):\n",
      " #   Column      Non-Null Count  Dtype \n",
      "---  ------      --------------  ----- \n",
      " 0   Movie       88 non-null     object\n",
      " 1   Kinopoisk   69 non-null     object\n",
      " 2   Level       88 non-null     object\n",
      " 3   Subtitles   88 non-null     object\n",
      " 4   level_num   88 non-null     int64 \n",
      " 5   Sub         85 non-null     object\n",
      "dtypes: int64(1), object(5)\n",
      "memory usage: 4.2+ KB\n",
      "None\n"
     ]
    },
    {
     "data": {
      "text/html": [
       "<div>\n",
       "<style scoped>\n",
       "    .dataframe tbody tr th:only-of-type {\n",
       "        vertical-align: middle;\n",
       "    }\n",
       "\n",
       "    .dataframe tbody tr th {\n",
       "        vertical-align: top;\n",
       "    }\n",
       "\n",
       "    .dataframe thead th {\n",
       "        text-align: right;\n",
       "    }\n",
       "</style>\n",
       "<table border=\"1\" class=\"dataframe\">\n",
       "  <thead>\n",
       "    <tr style=\"text-align: right;\">\n",
       "      <th></th>\n",
       "      <th>Movie</th>\n",
       "      <th>Kinopoisk</th>\n",
       "      <th>Level</th>\n",
       "      <th>Subtitles</th>\n",
       "      <th>level_num</th>\n",
       "      <th>Sub</th>\n",
       "    </tr>\n",
       "  </thead>\n",
       "  <tbody>\n",
       "    <tr>\n",
       "      <th>0</th>\n",
       "      <td>forrest_gump</td>\n",
       "      <td>Rus sub</td>\n",
       "      <td>A2/A2+, B1</td>\n",
       "      <td>Yes</td>\n",
       "      <td>3</td>\n",
       "      <td>name want chocolate could eat million half mam...</td>\n",
       "    </tr>\n",
       "    <tr>\n",
       "      <th>1</th>\n",
       "      <td>finding_nemo</td>\n",
       "      <td>Everything</td>\n",
       "      <td>A2/A2+</td>\n",
       "      <td>Yes</td>\n",
       "      <td>3</td>\n",
       "      <td>advertise product brand brcontact wwwtoday tap...</td>\n",
       "    </tr>\n",
       "    <tr>\n",
       "      <th>2</th>\n",
       "      <td>cast_away</td>\n",
       "      <td>Paid, Rus sub</td>\n",
       "      <td>A2/A2+</td>\n",
       "      <td>Yes</td>\n",
       "      <td>3</td>\n",
       "      <td>hey going right desk head snowbound see go pin...</td>\n",
       "    </tr>\n",
       "    <tr>\n",
       "      <th>3</th>\n",
       "      <td>the_invisible_man_2020</td>\n",
       "      <td>Paid, Rus lan</td>\n",
       "      <td>A2/A2+</td>\n",
       "      <td>Yes</td>\n",
       "      <td>3</td>\n",
       "      <td>come sorrycan take mei sorry go leave thing ok...</td>\n",
       "    </tr>\n",
       "    <tr>\n",
       "      <th>4</th>\n",
       "      <td>back_to_the_future</td>\n",
       "      <td>Rus sub</td>\n",
       "      <td>A2/A2+</td>\n",
       "      <td>Yes</td>\n",
       "      <td>3</td>\n",
       "      <td>right make good deal year allmodel find well c...</td>\n",
       "    </tr>\n",
       "  </tbody>\n",
       "</table>\n",
       "</div>"
      ],
      "text/plain": [
       "                    Movie     Kinopoisk        Level Subtitles  level_num  \\\n",
       "0            forrest_gump        Rus sub  A2/A2+, B1       Yes          3   \n",
       "1            finding_nemo     Everything      A2/A2+       Yes          3   \n",
       "2               cast_away  Paid, Rus sub      A2/A2+       Yes          3   \n",
       "3  the_invisible_man_2020  Paid, Rus lan      A2/A2+       Yes          3   \n",
       "4      back_to_the_future        Rus sub      A2/A2+       Yes          3   \n",
       "\n",
       "                                                 Sub  \n",
       "0  name want chocolate could eat million half mam...  \n",
       "1  advertise product brand brcontact wwwtoday tap...  \n",
       "2  hey going right desk head snowbound see go pin...  \n",
       "3  come sorrycan take mei sorry go leave thing ok...  \n",
       "4  right make good deal year allmodel find well c...  "
      ]
     },
     "execution_count": 21,
     "metadata": {},
     "output_type": "execute_result"
    }
   ],
   "source": [
    "print(df.info())\n",
    "df.head()"
   ]
  },
  {
   "cell_type": "code",
   "execution_count": 22,
   "metadata": {
    "scrolled": true
   },
   "outputs": [
    {
     "name": "stdout",
     "output_type": "stream",
     "text": [
      "<class 'pandas.core.frame.DataFrame'>\n",
      "RangeIndex: 28 entries, 0 to 27\n",
      "Data columns (total 6 columns):\n",
      " #   Column      Non-Null Count  Dtype  \n",
      "---  ------      --------------  -----  \n",
      " 0   Movie       28 non-null     object \n",
      " 1   Kinopoisk   0 non-null      float64\n",
      " 2   Level       28 non-null     object \n",
      " 3   Subtitles   0 non-null      float64\n",
      " 4   level_num   28 non-null     int64  \n",
      " 5   Sub         26 non-null     object \n",
      "dtypes: float64(2), int64(1), object(3)\n",
      "memory usage: 1.4+ KB\n",
      "None\n"
     ]
    },
    {
     "data": {
      "text/html": [
       "<div>\n",
       "<style scoped>\n",
       "    .dataframe tbody tr th:only-of-type {\n",
       "        vertical-align: middle;\n",
       "    }\n",
       "\n",
       "    .dataframe tbody tr th {\n",
       "        vertical-align: top;\n",
       "    }\n",
       "\n",
       "    .dataframe thead th {\n",
       "        text-align: right;\n",
       "    }\n",
       "</style>\n",
       "<table border=\"1\" class=\"dataframe\">\n",
       "  <thead>\n",
       "    <tr style=\"text-align: right;\">\n",
       "      <th></th>\n",
       "      <th>Movie</th>\n",
       "      <th>Kinopoisk</th>\n",
       "      <th>Level</th>\n",
       "      <th>Subtitles</th>\n",
       "      <th>level_num</th>\n",
       "      <th>Sub</th>\n",
       "    </tr>\n",
       "  </thead>\n",
       "  <tbody>\n",
       "    <tr>\n",
       "      <th>0</th>\n",
       "      <td>kubo_and_the_two_strings</td>\n",
       "      <td>NaN</td>\n",
       "      <td>B1</td>\n",
       "      <td>NaN</td>\n",
       "      <td>2</td>\n",
       "      <td>pay careful attention everything see hear matt...</td>\n",
       "    </tr>\n",
       "    <tr>\n",
       "      <th>1</th>\n",
       "      <td>charlie_and_the_chocolate_factory</td>\n",
       "      <td>NaN</td>\n",
       "      <td>B1</td>\n",
       "      <td>NaN</td>\n",
       "      <td>2</td>\n",
       "      <td>name fast strong clever child family rich powe...</td>\n",
       "    </tr>\n",
       "    <tr>\n",
       "      <th>2</th>\n",
       "      <td>cinderella</td>\n",
       "      <td>NaN</td>\n",
       "      <td>B1</td>\n",
       "      <td>NaN</td>\n",
       "      <td>2</td>\n",
       "      <td>lovely name sunset frame though dressed rag we...</td>\n",
       "    </tr>\n",
       "    <tr>\n",
       "      <th>3</th>\n",
       "      <td>ferdinand</td>\n",
       "      <td>NaN</td>\n",
       "      <td>B1</td>\n",
       "      <td>NaN</td>\n",
       "      <td>2</td>\n",
       "      <td>buzz showwhat get come guycan ha hurt ha ha ge...</td>\n",
       "    </tr>\n",
       "    <tr>\n",
       "      <th>4</th>\n",
       "      <td>inside_out</td>\n",
       "      <td>NaN</td>\n",
       "      <td>B1</td>\n",
       "      <td>NaN</td>\n",
       "      <td>2</td>\n",
       "      <td>joydo ever look brat someone wonder iwhat go i...</td>\n",
       "    </tr>\n",
       "  </tbody>\n",
       "</table>\n",
       "</div>"
      ],
      "text/plain": [
       "                               Movie  Kinopoisk  Level  Subtitles  level_num  \\\n",
       "0           kubo_and_the_two_strings         NaN    B1        NaN          2   \n",
       "1  charlie_and_the_chocolate_factory         NaN    B1        NaN          2   \n",
       "2                         cinderella         NaN    B1        NaN          2   \n",
       "3                          ferdinand         NaN    B1        NaN          2   \n",
       "4                         inside_out         NaN    B1        NaN          2   \n",
       "\n",
       "                                                 Sub  \n",
       "0  pay careful attention everything see hear matt...  \n",
       "1  name fast strong clever child family rich powe...  \n",
       "2  lovely name sunset frame though dressed rag we...  \n",
       "3  buzz showwhat get come guycan ha hurt ha ha ge...  \n",
       "4  joydo ever look brat someone wonder iwhat go i...  "
      ]
     },
     "execution_count": 22,
     "metadata": {},
     "output_type": "execute_result"
    }
   ],
   "source": [
    "print(df_new.info())\n",
    "df_new.head()"
   ]
  },
  {
   "cell_type": "markdown",
   "metadata": {},
   "source": [
    "В полученных таблицах присутствуют пропущенные значения для столбца 'Sub'. Скорее всего, в даннных отсутсвуют некоторые файлы с субтитрами. Выведем строки с пропусками."
   ]
  },
  {
   "cell_type": "code",
   "execution_count": 23,
   "metadata": {},
   "outputs": [
    {
     "data": {
      "text/html": [
       "<div>\n",
       "<style scoped>\n",
       "    .dataframe tbody tr th:only-of-type {\n",
       "        vertical-align: middle;\n",
       "    }\n",
       "\n",
       "    .dataframe tbody tr th {\n",
       "        vertical-align: top;\n",
       "    }\n",
       "\n",
       "    .dataframe thead th {\n",
       "        text-align: right;\n",
       "    }\n",
       "</style>\n",
       "<table border=\"1\" class=\"dataframe\">\n",
       "  <thead>\n",
       "    <tr style=\"text-align: right;\">\n",
       "      <th></th>\n",
       "      <th>Movie</th>\n",
       "      <th>Kinopoisk</th>\n",
       "      <th>Level</th>\n",
       "      <th>Subtitles</th>\n",
       "      <th>level_num</th>\n",
       "      <th>Sub</th>\n",
       "    </tr>\n",
       "  </thead>\n",
       "  <tbody>\n",
       "    <tr>\n",
       "      <th>35</th>\n",
       "      <td>were_the_millers</td>\n",
       "      <td>Nope</td>\n",
       "      <td>B1</td>\n",
       "      <td>Yes</td>\n",
       "      <td>2</td>\n",
       "      <td>NaN</td>\n",
       "    </tr>\n",
       "    <tr>\n",
       "      <th>58</th>\n",
       "      <td>lie_to_me_series</td>\n",
       "      <td>NaN</td>\n",
       "      <td>B1, B2</td>\n",
       "      <td>No</td>\n",
       "      <td>2</td>\n",
       "      <td>NaN</td>\n",
       "    </tr>\n",
       "    <tr>\n",
       "      <th>83</th>\n",
       "      <td>the_walking_dead_series</td>\n",
       "      <td>NaN</td>\n",
       "      <td>A2/A2+</td>\n",
       "      <td>No</td>\n",
       "      <td>3</td>\n",
       "      <td>NaN</td>\n",
       "    </tr>\n",
       "  </tbody>\n",
       "</table>\n",
       "</div>"
      ],
      "text/plain": [
       "                      Movie Kinopoisk    Level Subtitles  level_num  Sub\n",
       "35         were_the_millers       Nope      B1       Yes          2  NaN\n",
       "58         lie_to_me_series        NaN  B1, B2        No          2  NaN\n",
       "83  the_walking_dead_series        NaN  A2/A2+        No          3  NaN"
      ]
     },
     "execution_count": 23,
     "metadata": {},
     "output_type": "execute_result"
    }
   ],
   "source": [
    "df[df['Sub'].isna()]"
   ]
  },
  {
   "cell_type": "code",
   "execution_count": 24,
   "metadata": {},
   "outputs": [
    {
     "data": {
      "text/html": [
       "<div>\n",
       "<style scoped>\n",
       "    .dataframe tbody tr th:only-of-type {\n",
       "        vertical-align: middle;\n",
       "    }\n",
       "\n",
       "    .dataframe tbody tr th {\n",
       "        vertical-align: top;\n",
       "    }\n",
       "\n",
       "    .dataframe thead th {\n",
       "        text-align: right;\n",
       "    }\n",
       "</style>\n",
       "<table border=\"1\" class=\"dataframe\">\n",
       "  <thead>\n",
       "    <tr style=\"text-align: right;\">\n",
       "      <th></th>\n",
       "      <th>Movie</th>\n",
       "      <th>Kinopoisk</th>\n",
       "      <th>Level</th>\n",
       "      <th>Subtitles</th>\n",
       "      <th>level_num</th>\n",
       "      <th>Sub</th>\n",
       "    </tr>\n",
       "  </thead>\n",
       "  <tbody>\n",
       "    <tr>\n",
       "      <th>7</th>\n",
       "      <td>the_terminal</td>\n",
       "      <td>NaN</td>\n",
       "      <td>B1</td>\n",
       "      <td>NaN</td>\n",
       "      <td>2</td>\n",
       "      <td>NaN</td>\n",
       "    </tr>\n",
       "    <tr>\n",
       "      <th>19</th>\n",
       "      <td>the_secret_life_of_pets</td>\n",
       "      <td>NaN</td>\n",
       "      <td>B2</td>\n",
       "      <td>NaN</td>\n",
       "      <td>1</td>\n",
       "      <td>NaN</td>\n",
       "    </tr>\n",
       "  </tbody>\n",
       "</table>\n",
       "</div>"
      ],
      "text/plain": [
       "                      Movie  Kinopoisk  Level  Subtitles  level_num  Sub\n",
       "7              the_terminal         NaN    B1        NaN          2  NaN\n",
       "19  the_secret_life_of_pets         NaN    B2        NaN          1  NaN"
      ]
     },
     "execution_count": 24,
     "metadata": {},
     "output_type": "execute_result"
    }
   ],
   "source": [
    "df_new[df_new['Sub'].isna()]"
   ]
  },
  {
   "cell_type": "markdown",
   "metadata": {},
   "source": [
    "Удалим строки, содержащие пропуски."
   ]
  },
  {
   "cell_type": "code",
   "execution_count": 25,
   "metadata": {},
   "outputs": [
    {
     "name": "stdout",
     "output_type": "stream",
     "text": [
      "<class 'pandas.core.frame.DataFrame'>\n",
      "Int64Index: 85 entries, 0 to 87\n",
      "Data columns (total 6 columns):\n",
      " #   Column      Non-Null Count  Dtype \n",
      "---  ------      --------------  ----- \n",
      " 0   Movie       85 non-null     object\n",
      " 1   Kinopoisk   68 non-null     object\n",
      " 2   Level       85 non-null     object\n",
      " 3   Subtitles   85 non-null     object\n",
      " 4   level_num   85 non-null     int64 \n",
      " 5   Sub         85 non-null     object\n",
      "dtypes: int64(1), object(5)\n",
      "memory usage: 4.6+ KB\n"
     ]
    }
   ],
   "source": [
    "df = df[df['Sub'].notna()]\n",
    "df.info()"
   ]
  },
  {
   "cell_type": "code",
   "execution_count": 26,
   "metadata": {},
   "outputs": [
    {
     "name": "stdout",
     "output_type": "stream",
     "text": [
      "<class 'pandas.core.frame.DataFrame'>\n",
      "Int64Index: 26 entries, 0 to 27\n",
      "Data columns (total 6 columns):\n",
      " #   Column      Non-Null Count  Dtype  \n",
      "---  ------      --------------  -----  \n",
      " 0   Movie       26 non-null     object \n",
      " 1   Kinopoisk   0 non-null      float64\n",
      " 2   Level       26 non-null     object \n",
      " 3   Subtitles   0 non-null      float64\n",
      " 4   level_num   26 non-null     int64  \n",
      " 5   Sub         26 non-null     object \n",
      "dtypes: float64(2), int64(1), object(3)\n",
      "memory usage: 1.4+ KB\n"
     ]
    }
   ],
   "source": [
    "df_new = df_new[df_new['Sub'].notna()]\n",
    "df_new.info()"
   ]
  },
  {
   "cell_type": "markdown",
   "metadata": {},
   "source": [
    "Итак, количество фильмов в обеих таблицах теперь совпадает с количеством обработанных субтитров.\n",
    "\n",
    "### Объединение данных\n",
    "\n",
    "Далее обучим различные модели на двух наборах данных: на исходных данных и на объединённом наборе (исходные + дополнительные). Для второго случая объединим таблицы, объединённый датасет назовём `df_all`."
   ]
  },
  {
   "cell_type": "code",
   "execution_count": 27,
   "metadata": {},
   "outputs": [],
   "source": [
    "df_all = df.append(df_new)"
   ]
  },
  {
   "cell_type": "markdown",
   "metadata": {},
   "source": [
    "Вспомним, что некоторые фильмы из двух наборов данных перескаются. Удалим дубликаты фильмов."
   ]
  },
  {
   "cell_type": "code",
   "execution_count": 28,
   "metadata": {},
   "outputs": [
    {
     "name": "stdout",
     "output_type": "stream",
     "text": [
      "<class 'pandas.core.frame.DataFrame'>\n",
      "Int64Index: 107 entries, 0 to 27\n",
      "Data columns (total 6 columns):\n",
      " #   Column      Non-Null Count  Dtype \n",
      "---  ------      --------------  ----- \n",
      " 0   Movie       107 non-null    object\n",
      " 1   Kinopoisk   68 non-null     object\n",
      " 2   Level       107 non-null    object\n",
      " 3   Subtitles   85 non-null     object\n",
      " 4   level_num   107 non-null    int64 \n",
      " 5   Sub         107 non-null    object\n",
      "dtypes: int64(1), object(5)\n",
      "memory usage: 5.9+ KB\n"
     ]
    },
    {
     "data": {
      "text/html": [
       "<div>\n",
       "<style scoped>\n",
       "    .dataframe tbody tr th:only-of-type {\n",
       "        vertical-align: middle;\n",
       "    }\n",
       "\n",
       "    .dataframe tbody tr th {\n",
       "        vertical-align: top;\n",
       "    }\n",
       "\n",
       "    .dataframe thead th {\n",
       "        text-align: right;\n",
       "    }\n",
       "</style>\n",
       "<table border=\"1\" class=\"dataframe\">\n",
       "  <thead>\n",
       "    <tr style=\"text-align: right;\">\n",
       "      <th></th>\n",
       "      <th>Movie</th>\n",
       "      <th>Kinopoisk</th>\n",
       "      <th>Level</th>\n",
       "      <th>Subtitles</th>\n",
       "      <th>level_num</th>\n",
       "      <th>Sub</th>\n",
       "    </tr>\n",
       "  </thead>\n",
       "  <tbody>\n",
       "    <tr>\n",
       "      <th>0</th>\n",
       "      <td>forrest_gump</td>\n",
       "      <td>Rus sub</td>\n",
       "      <td>A2/A2+, B1</td>\n",
       "      <td>Yes</td>\n",
       "      <td>3</td>\n",
       "      <td>name want chocolate could eat million half mam...</td>\n",
       "    </tr>\n",
       "    <tr>\n",
       "      <th>1</th>\n",
       "      <td>finding_nemo</td>\n",
       "      <td>Everything</td>\n",
       "      <td>A2/A2+</td>\n",
       "      <td>Yes</td>\n",
       "      <td>3</td>\n",
       "      <td>advertise product brand brcontact wwwtoday tap...</td>\n",
       "    </tr>\n",
       "    <tr>\n",
       "      <th>2</th>\n",
       "      <td>cast_away</td>\n",
       "      <td>Paid, Rus sub</td>\n",
       "      <td>A2/A2+</td>\n",
       "      <td>Yes</td>\n",
       "      <td>3</td>\n",
       "      <td>hey going right desk head snowbound see go pin...</td>\n",
       "    </tr>\n",
       "    <tr>\n",
       "      <th>3</th>\n",
       "      <td>the_invisible_man_2020</td>\n",
       "      <td>Paid, Rus lan</td>\n",
       "      <td>A2/A2+</td>\n",
       "      <td>Yes</td>\n",
       "      <td>3</td>\n",
       "      <td>come sorrycan take mei sorry go leave thing ok...</td>\n",
       "    </tr>\n",
       "    <tr>\n",
       "      <th>4</th>\n",
       "      <td>back_to_the_future</td>\n",
       "      <td>Rus sub</td>\n",
       "      <td>A2/A2+</td>\n",
       "      <td>Yes</td>\n",
       "      <td>3</td>\n",
       "      <td>right make good deal year allmodel find well c...</td>\n",
       "    </tr>\n",
       "  </tbody>\n",
       "</table>\n",
       "</div>"
      ],
      "text/plain": [
       "                    Movie     Kinopoisk        Level Subtitles  level_num  \\\n",
       "0            forrest_gump        Rus sub  A2/A2+, B1       Yes          3   \n",
       "1            finding_nemo     Everything      A2/A2+       Yes          3   \n",
       "2               cast_away  Paid, Rus sub      A2/A2+       Yes          3   \n",
       "3  the_invisible_man_2020  Paid, Rus lan      A2/A2+       Yes          3   \n",
       "4      back_to_the_future        Rus sub      A2/A2+       Yes          3   \n",
       "\n",
       "                                                 Sub  \n",
       "0  name want chocolate could eat million half mam...  \n",
       "1  advertise product brand brcontact wwwtoday tap...  \n",
       "2  hey going right desk head snowbound see go pin...  \n",
       "3  come sorrycan take mei sorry go leave thing ok...  \n",
       "4  right make good deal year allmodel find well c...  "
      ]
     },
     "execution_count": 28,
     "metadata": {},
     "output_type": "execute_result"
    }
   ],
   "source": [
    "df_all = df_all[~df_all['Movie'].duplicated()]\n",
    "df_all.info()\n",
    "df_all.head()"
   ]
  },
  {
   "cell_type": "markdown",
   "metadata": {},
   "source": [
    "Итак, в нашем распоряжении предобработанные данные: исходный датасет, содержащий 85 фильмов с субтитрами и объединённый, содержащий 107 фильмов.\n",
    "\n",
    "Интересно посмотреть на распределение целевого признака в обоих датасетах до числового перекодирования (колонка `Level`) и после (колонка `level_num`)."
   ]
  },
  {
   "cell_type": "code",
   "execution_count": 29,
   "metadata": {
    "scrolled": true
   },
   "outputs": [
    {
     "name": "stdout",
     "output_type": "stream",
     "text": [
      "Распределение уровней до их объединения:\n",
      " B1            0.317647\n",
      "A2/A2+        0.305882\n",
      "B2            0.223529\n",
      "B1, B2        0.094118\n",
      "A2/A2+, B1    0.058824\n",
      "Name: Level, dtype: float64\n"
     ]
    },
    {
     "data": {
      "image/png": "[encoded data removed]",
      "text/plain": [
       "<Figure size 432x288 with 1 Axes>"
      ]
     },
     "metadata": {},
     "output_type": "display_data"
    },
    {
     "name": "stdout",
     "output_type": "stream",
     "text": [
      "\n",
      "Распределение уровней после их объединения и перекодирования:\n",
      " 2    0.411765\n",
      "3    0.364706\n",
      "1    0.223529\n",
      "Name: level_num, dtype: float64\n"
     ]
    },
    {
     "data": {
      "image/png": "[encoded data removed]",
      "text/plain": [
       "<Figure size 432x288 with 1 Axes>"
      ]
     },
     "metadata": {},
     "output_type": "display_data"
    }
   ],
   "source": [
    "# df['Level']\n",
    "# выведем долю вхождения каждой категории\n",
    "print('Распределение уровней до их объединения:\\n', \n",
    "      df['Level'].value_counts(normalize=True))\n",
    "# построим гистограмму распределения категорий\n",
    "sns.countplot(data=df, x='Level', order=df['Level'].value_counts().index) \\\n",
    "        .set(title = 'Распределение уровней для df до их перекодирования');\n",
    "plt.show()\n",
    "\n",
    "#df['level_num']\n",
    "print('\\nРаспределение уровней после их объединения и перекодирования:\\n',\n",
    "      df['level_num'].value_counts(normalize=True))\n",
    "\n",
    "sns.countplot(data=df, x='level_num', order=df['level_num'].value_counts().index) \\\n",
    "        .set(title = 'Распределение уровней для df после их перекодирования');"
   ]
  },
  {
   "cell_type": "code",
   "execution_count": 30,
   "metadata": {
    "scrolled": true
   },
   "outputs": [
    {
     "name": "stdout",
     "output_type": "stream",
     "text": [
      "Распределение уровней до их объединения:\n",
      " B1            0.308411\n",
      "B2            0.252336\n",
      "A2/A2+        0.242991\n",
      "C1            0.074766\n",
      "B1, B2        0.074766\n",
      "A2/A2+, B1    0.046729\n",
      "Name: Level, dtype: float64\n"
     ]
    },
    {
     "data": {
      "image/png": "[encoded data removed]",
      "text/plain": [
       "<Figure size 432x288 with 1 Axes>"
      ]
     },
     "metadata": {},
     "output_type": "display_data"
    },
    {
     "name": "stdout",
     "output_type": "stream",
     "text": [
      "\n",
      "Распределение уровней после их объединения и перекодирования:\n",
      " 2    0.383178\n",
      "1    0.327103\n",
      "3    0.289720\n",
      "Name: level_num, dtype: float64\n"
     ]
    },
    {
     "data": {
      "image/png": "[encoded data removed]",
      "text/plain": [
       "<Figure size 432x288 with 1 Axes>"
      ]
     },
     "metadata": {},
     "output_type": "display_data"
    }
   ],
   "source": [
    "# df_all['Level']\n",
    "print('Распределение уровней до их объединения:\\n', \n",
    "      df_all['Level'].value_counts(normalize=True))\n",
    "\n",
    "sns.countplot(data=df_all, x='Level', order=df_all['Level'].value_counts().index) \\\n",
    "        .set(title = 'Распределение уровней для df_all до их перекодирования');\n",
    "plt.show()\n",
    "\n",
    "# df_all['level_num']\n",
    "print('\\nРаспределение уровней после их объединения и перекодирования:\\n',\n",
    "      df_all['level_num'].value_counts(normalize=True))\n",
    "\n",
    "sns.countplot(data=df_all, x='level_num', order=df_all['level_num'].value_counts().index) \\\n",
    "        .set(title = 'Распределение уровней для df_all после их перекодирования');"
   ]
  },
  {
   "cell_type": "markdown",
   "metadata": {},
   "source": [
    "**Анализ гистограмм**\n",
    "\n",
    "* **Таблица df:** до объединения категорий присутствовали малочисленные категории (например, категория `A2/A2+, B1` была представлена всего лишь в 5% случаев. После объединения и числового перекодирования осталось 3 категории, которые хорошо представлены (каждая категория встрчается не реже 22% случаев), значит объединение категорий позволит достичь лучшего качества обучения.\n",
    "\n",
    "\n",
    "* **Таблица df_all:** аналогично, изначально присутсвовало 6 малочисленных категорий (самые маленькие группы составляли от 4 до 7% от общего количества случаев). После объединения получилось 3 группы, 3 из которых представлены довольно хорошо (встречаются не реже 25% случаев)."
   ]
  },
  {
   "cell_type": "markdown",
   "metadata": {},
   "source": [
    "### Подготовка данных к обучению: векторизация текста, разделение на обучающую и тестовую выборки"
   ]
  },
  {
   "cell_type": "markdown",
   "metadata": {},
   "source": [
    "Для каждого набора данных выделим столбец с преобразованными субтитрами в качестве признака, и столбец 'level_num' в качестве целевого признака, разделим данные на обучающую и тестовую выборку."
   ]
  },
  {
   "cell_type": "code",
   "execution_count": 31,
   "metadata": {},
   "outputs": [
    {
     "name": "stdout",
     "output_type": "stream",
     "text": [
      "train: (76,) (76,)\n",
      "test: (9,) (9,)\n"
     ]
    }
   ],
   "source": [
    "features = df['Sub']\n",
    "target = df['level_num']\n",
    "\n",
    "features_train, features_test, target_train, target_test = train_test_split(features, \n",
    "                                                                            target, \n",
    "                                                                            test_size = .1,\n",
    "                                                                            stratify = target,\n",
    "                                                                            random_state=RANDOM_STATE)\n",
    "print('train:', features_train.shape, target_train.shape)\n",
    "print('test:', features_test.shape, target_test.shape)"
   ]
  },
  {
   "cell_type": "code",
   "execution_count": 32,
   "metadata": {},
   "outputs": [
    {
     "name": "stdout",
     "output_type": "stream",
     "text": [
      "train_all: (96,) (96,)\n",
      "test_all: (11,) (11,)\n"
     ]
    }
   ],
   "source": [
    "features_all = df_all['Sub']\n",
    "target_all = df_all['level_num']\n",
    "\n",
    "features_all_train, features_all_test, target_all_train, target_all_test = train_test_split(features_all, \n",
    "                                                                            target_all, \n",
    "                                                                            test_size = .1,\n",
    "                                                                            stratify = target_all,\n",
    "                                                                            random_state=RANDOM_STATE)\n",
    "print('train_all:', features_all_train.shape, target_all_train.shape)\n",
    "print('test_all:', features_all_test.shape, target_all_test.shape)"
   ]
  },
  {
   "cell_type": "markdown",
   "metadata": {},
   "source": [
    "Произведём векторизацию текстов с помощью метода TF-IDF. Обучим `TfidfVectorizer` на тренировочной выборке, и преобразуем тренировочную и тестовую выборки."
   ]
  },
  {
   "cell_type": "code",
   "execution_count": 33,
   "metadata": {},
   "outputs": [],
   "source": [
    "vectorizer = TfidfVectorizer(analyzer=str.split)"
   ]
  },
  {
   "cell_type": "code",
   "execution_count": 34,
   "metadata": {
    "scrolled": true
   },
   "outputs": [
    {
     "name": "stdout",
     "output_type": "stream",
     "text": [
      "train: (76, 34866) (76,)\n",
      "test: (9, 34866) (9,)\n"
     ]
    }
   ],
   "source": [
    "features_train_tfidf = vectorizer.fit_transform(features_train)\n",
    "features_test_tfidf = vectorizer.transform(features_test)\n",
    "print('train:', features_train_tfidf.shape, target_train.shape)\n",
    "print('test:', features_test_tfidf.shape, target_test.shape)"
   ]
  },
  {
   "cell_type": "code",
   "execution_count": 35,
   "metadata": {},
   "outputs": [
    {
     "name": "stdout",
     "output_type": "stream",
     "text": [
      "train: (96, 39831) (96,)\n",
      "test: (11, 39831) (11,)\n"
     ]
    }
   ],
   "source": [
    "features_all_train_tfidf = vectorizer.fit_transform(features_all_train)\n",
    "features_all_test_tfidf = vectorizer.transform(features_all_test)\n",
    "print('train:', features_all_train_tfidf.shape, target_all_train.shape)\n",
    "print('test:', features_all_test_tfidf.shape, target_all_test.shape)"
   ]
  },
  {
   "cell_type": "markdown",
   "metadata": {},
   "source": [
    "### Вывод\n",
    "\n",
    "В результате предобработки данных были выполнены следующие действия:\n",
    "- загружены исходные и дополнительные данные\n",
    "- столбец с названиями фильмов был обработан: все названия приведены к одинаковому виду\n",
    "- подготовлен целевой признак: названия категорий перекодированы числами, малочисленные категории объединены в более крупные (сответсвующие минимальному уровню сложности)\n",
    "- подготовлены субтитры: для каждого фильма из соответствующего файла с субтитрами был извлёчен текст и преобразован (проведена лемматизация слов; удаление пунктуации, стоп-слов, имён собственых). После преобразования в каждой ячейке колонки 'Sub' содержится полный текст фильма, приведёный к нормализованному виду.\n",
    "- проведена подготовка данных к обучению: данные разделены на обучающую и тестовую выборку\n",
    "- проведена векторизация текстовых данных по методу TF-IDF."
   ]
  },
  {
   "cell_type": "markdown",
   "metadata": {},
   "source": [
    "## Обучение моделей"
   ]
  },
  {
   "cell_type": "markdown",
   "metadata": {},
   "source": [
    "### Логистическая регрессия"
   ]
  },
  {
   "cell_type": "code",
   "execution_count": 36,
   "metadata": {},
   "outputs": [
    {
     "name": "stdout",
     "output_type": "stream",
     "text": [
      "Accuracy модели логистической регрессии для исходной выборки фильмов: 0.333\n"
     ]
    }
   ],
   "source": [
    "log_clf = LogisticRegression()\n",
    "log_clf.fit(features_train_tfidf, target_train)\n",
    "\n",
    "pred = log_clf.predict(features_test_tfidf)\n",
    "print(\"Accuracy модели логистической регрессии для исходной выборки фильмов:\",\n",
    "      accuracy_score(target_test, pred).round(3))"
   ]
  },
  {
   "cell_type": "code",
   "execution_count": 37,
   "metadata": {},
   "outputs": [
    {
     "name": "stdout",
     "output_type": "stream",
     "text": [
      "Accuracy модели логистической регрессии для расширенной выборки фильмов: 0.455\n"
     ]
    }
   ],
   "source": [
    "log_clf = LogisticRegression()\n",
    "log_clf.fit(features_all_train_tfidf, target_all_train)\n",
    "\n",
    "pred = log_clf.predict(features_all_test_tfidf)\n",
    "print(\"Accuracy модели логистической регрессии для расширенной выборки фильмов:\",\n",
    "      accuracy_score(target_all_test, pred).round(3))"
   ]
  },
  {
   "cell_type": "markdown",
   "metadata": {},
   "source": [
    "### Случайный лес"
   ]
  },
  {
   "cell_type": "code",
   "execution_count": 38,
   "metadata": {
    "scrolled": true
   },
   "outputs": [
    {
     "name": "stdout",
     "output_type": "stream",
     "text": [
      "Fitting 5 folds for each of 100 candidates, totalling 500 fits\n",
      "Параметры лучшей модели решающего леса:\n",
      " RandomForestClassifier(max_depth=8, min_samples_leaf=3, min_samples_split=3,\n",
      "                       n_estimators=74, random_state=12345)\n",
      "Accuracy лучшей модели решающего леса для исходной выборки фильмов: 0.593\n",
      "CPU times: user 2.75 s, sys: 277 ms, total: 3.03 s\n",
      "Wall time: 1min 47s\n"
     ]
    }
   ],
   "source": [
    "%%time\n",
    "\n",
    "param_dist = {\n",
    "        'n_estimators':range(50,500,4),\n",
    "        'max_depth':range(2,15,1),\n",
    "        'max_features':['auto', 'sqrt'],\n",
    "        'min_samples_split':range(2,5,1),\n",
    "        'min_samples_leaf': [1, 2, 3],\n",
    "        'bootstrap':[True, False]\n",
    "}\n",
    "\n",
    "model = RandomForestClassifier(random_state=RANDOM_STATE)\n",
    "grid = RandomizedSearchCV(model, \n",
    "                          param_dist, \n",
    "                          cv = 5, \n",
    "                          scoring = 'accuracy', \n",
    "                          n_iter=100, \n",
    "                          n_jobs = -1, \n",
    "                          random_state=RANDOM_STATE,\n",
    "                         verbose=2)\n",
    "\n",
    "grid.fit(features_train_tfidf, target_train)\n",
    "# выведем модель с наилучшей оценкой\n",
    "best_estimator = grid.best_estimator_\n",
    "print(\"Параметры лучшей модели решающего леса:\\n\", best_estimator)\n",
    "# выведем наилучшую оценку\n",
    "print(\"Accuracy лучшей модели решающего леса для исходной выборки фильмов:\",grid.best_score_.round(3))"
   ]
  },
  {
   "cell_type": "code",
   "execution_count": 39,
   "metadata": {},
   "outputs": [
    {
     "name": "stdout",
     "output_type": "stream",
     "text": [
      "Fitting 5 folds for each of 100 candidates, totalling 500 fits\n",
      "Параметры лучшей модели решающего леса:\n",
      " RandomForestClassifier(bootstrap=False, max_depth=8, max_features='sqrt',\n",
      "                       min_samples_leaf=3, min_samples_split=3,\n",
      "                       n_estimators=142, random_state=12345)\n",
      "Accuracy лучшей модели решающего леса для расширенной выборки фильмов: 0.5\n",
      "CPU times: user 2.57 s, sys: 92.7 ms, total: 2.66 s\n",
      "Wall time: 1min 53s\n"
     ]
    }
   ],
   "source": [
    "%%time\n",
    "\n",
    "param_dist = {\n",
    "        'n_estimators':range(50,500,4),\n",
    "        'max_depth':range(2,15,1),\n",
    "        'max_features':['auto', 'sqrt'],\n",
    "        'min_samples_split':range(2,5,1),\n",
    "        'min_samples_leaf': [1, 2, 3],\n",
    "        'bootstrap':[True, False]\n",
    "}\n",
    "\n",
    "model = RandomForestClassifier(random_state=RANDOM_STATE)\n",
    "grid = RandomizedSearchCV(model, \n",
    "                          param_dist, \n",
    "                          cv = 5, \n",
    "                          scoring = 'accuracy', \n",
    "                          n_iter=100, \n",
    "                          n_jobs = -1, \n",
    "                          random_state=RANDOM_STATE,\n",
    "                         verbose=2)\n",
    "\n",
    "grid.fit(features_all_train_tfidf, target_all_train)\n",
    "# выведем модель с наилучшей оценкой\n",
    "best_estimator_all = grid.best_estimator_\n",
    "print(\"Параметры лучшей модели решающего леса:\\n\", best_estimator_all)\n",
    "# выведем наилучшую оценку\n",
    "print(\"Accuracy лучшей модели решающего леса для расширенной выборки фильмов:\",grid.best_score_.round(3))"
   ]
  },
  {
   "cell_type": "markdown",
   "metadata": {},
   "source": [
    "### Градиентный бустинг CatBoost"
   ]
  },
  {
   "cell_type": "code",
   "execution_count": 40,
   "metadata": {
    "scrolled": true
   },
   "outputs": [
    {
     "name": "stdout",
     "output_type": "stream",
     "text": [
      "\n",
      "bestTest = 0.4375\n",
      "bestIteration = 1\n",
      "\n",
      "0:\tloss: 0.4375000\tbest: 0.4375000 (0)\ttotal: 1.35s\tremaining: 1m 6s\n",
      "\n",
      "bestTest = 0.4375\n",
      "bestIteration = 1\n",
      "\n",
      "\n",
      "bestTest = 0.4375\n",
      "bestIteration = 1\n",
      "\n",
      "2:\tloss: 0.4375000\tbest: 0.4375000 (0)\ttotal: 3.36s\tremaining: 52.7s\n",
      "\n",
      "bestTest = 0.4375\n",
      "bestIteration = 1\n",
      "\n",
      "\n",
      "bestTest = 0.4375\n",
      "bestIteration = 1\n",
      "\n",
      "4:\tloss: 0.4375000\tbest: 0.4375000 (0)\ttotal: 5.94s\tremaining: 53.5s\n",
      "\n",
      "bestTest = 0.4375\n",
      "bestIteration = 1\n",
      "\n",
      "\n",
      "bestTest = 0.4375\n",
      "bestIteration = 1\n",
      "\n",
      "6:\tloss: 0.4375000\tbest: 0.4375000 (0)\ttotal: 9.37s\tremaining: 57.6s\n",
      "\n",
      "bestTest = 0.4375\n",
      "bestIteration = 1\n",
      "\n",
      "\n",
      "bestTest = 0.4375\n",
      "bestIteration = 1\n",
      "\n",
      "8:\tloss: 0.4375000\tbest: 0.4375000 (0)\ttotal: 13.1s\tremaining: 59.7s\n",
      "\n",
      "bestTest = 0.4375\n",
      "bestIteration = 1\n",
      "\n",
      "\n",
      "bestTest = 0.4375\n",
      "bestIteration = 4\n",
      "\n",
      "10:\tloss: 0.4375000\tbest: 0.4375000 (0)\ttotal: 16.4s\tremaining: 58.2s\n",
      "\n",
      "bestTest = 0.4375\n",
      "bestIteration = 4\n",
      "\n",
      "\n",
      "bestTest = 0.4375\n",
      "bestIteration = 4\n",
      "\n",
      "12:\tloss: 0.4375000\tbest: 0.4375000 (0)\ttotal: 20.9s\tremaining: 59.6s\n",
      "\n",
      "bestTest = 0.4375\n",
      "bestIteration = 4\n",
      "\n",
      "\n",
      "bestTest = 0.4375\n",
      "bestIteration = 4\n",
      "\n",
      "14:\tloss: 0.4375000\tbest: 0.4375000 (0)\ttotal: 28.5s\tremaining: 1m 6s\n",
      "\n",
      "bestTest = 0.4375\n",
      "bestIteration = 4\n",
      "\n",
      "\n",
      "bestTest = 0.4375\n",
      "bestIteration = 4\n",
      "\n",
      "16:\tloss: 0.4375000\tbest: 0.4375000 (0)\ttotal: 39s\tremaining: 1m 15s\n",
      "\n",
      "bestTest = 0.4375\n",
      "bestIteration = 4\n",
      "\n",
      "\n",
      "bestTest = 0.4375\n",
      "bestIteration = 4\n",
      "\n",
      "18:\tloss: 0.4375000\tbest: 0.4375000 (0)\ttotal: 51.5s\tremaining: 1m 24s\n",
      "\n",
      "bestTest = 0.4375\n",
      "bestIteration = 4\n",
      "\n",
      "\n",
      "bestTest = 0.5\n",
      "bestIteration = 3\n",
      "\n",
      "20:\tloss: 0.5000000\tbest: 0.5000000 (20)\ttotal: 1m 1s\tremaining: 1m 24s\n",
      "\n",
      "bestTest = 0.5\n",
      "bestIteration = 3\n",
      "\n",
      "\n",
      "bestTest = 0.5\n",
      "bestIteration = 3\n",
      "\n",
      "22:\tloss: 0.5000000\tbest: 0.5000000 (20)\ttotal: 1m 7s\tremaining: 1m 19s\n",
      "\n",
      "bestTest = 0.5\n",
      "bestIteration = 3\n",
      "\n",
      "\n",
      "bestTest = 0.5\n",
      "bestIteration = 3\n",
      "\n",
      "24:\tloss: 0.5000000\tbest: 0.5000000 (20)\ttotal: 1m 16s\tremaining: 1m 16s\n",
      "\n",
      "bestTest = 0.5\n",
      "bestIteration = 3\n",
      "\n",
      "\n",
      "bestTest = 0.5\n",
      "bestIteration = 3\n",
      "\n",
      "26:\tloss: 0.5000000\tbest: 0.5000000 (20)\ttotal: 1m 31s\tremaining: 1m 17s\n",
      "\n",
      "bestTest = 0.5\n",
      "bestIteration = 3\n",
      "\n",
      "\n",
      "bestTest = 0.5\n",
      "bestIteration = 3\n",
      "\n",
      "28:\tloss: 0.5000000\tbest: 0.5000000 (20)\ttotal: 1m 50s\tremaining: 1m 20s\n",
      "\n",
      "bestTest = 0.5\n",
      "bestIteration = 3\n",
      "\n",
      "\n",
      "bestTest = 0.5\n",
      "bestIteration = 3\n",
      "\n",
      "30:\tloss: 0.5000000\tbest: 0.5000000 (20)\ttotal: 2m 17s\tremaining: 1m 24s\n",
      "\n",
      "bestTest = 0.5\n",
      "bestIteration = 3\n",
      "\n",
      "\n",
      "bestTest = 0.5\n",
      "bestIteration = 3\n",
      "\n",
      "32:\tloss: 0.5000000\tbest: 0.5000000 (20)\ttotal: 2m 52s\tremaining: 1m 28s\n",
      "\n",
      "bestTest = 0.4375\n",
      "bestIteration = 2\n",
      "\n",
      "\n",
      "bestTest = 0.4375\n",
      "bestIteration = 2\n",
      "\n",
      "34:\tloss: 0.4375000\tbest: 0.5000000 (20)\ttotal: 3m 15s\tremaining: 1m 23s\n",
      "\n",
      "bestTest = 0.4375\n",
      "bestIteration = 2\n",
      "\n",
      "\n",
      "bestTest = 0.4375\n",
      "bestIteration = 2\n",
      "\n",
      "36:\tloss: 0.4375000\tbest: 0.5000000 (20)\ttotal: 4m 1s\tremaining: 1m 24s\n",
      "\n",
      "bestTest = 0.4375\n",
      "bestIteration = 2\n",
      "\n",
      "\n",
      "bestTest = 0.4375\n",
      "bestIteration = 2\n",
      "\n",
      "38:\tloss: 0.4375000\tbest: 0.5000000 (20)\ttotal: 5m 5s\tremaining: 1m 26s\n",
      "\n",
      "bestTest = 0.4375\n",
      "bestIteration = 2\n",
      "\n",
      "\n",
      "bestTest = 0.5625\n",
      "bestIteration = 6\n",
      "\n",
      "40:\tloss: 0.5625000\tbest: 0.5625000 (40)\ttotal: 5m 52s\tremaining: 1m 17s\n",
      "\n",
      "bestTest = 0.5625\n",
      "bestIteration = 6\n",
      "\n",
      "\n",
      "bestTest = 0.5625\n",
      "bestIteration = 6\n",
      "\n",
      "42:\tloss: 0.5625000\tbest: 0.5625000 (40)\ttotal: 6m 34s\tremaining: 1m 4s\n",
      "\n",
      "bestTest = 0.5625\n",
      "bestIteration = 6\n",
      "\n",
      "\n",
      "bestTest = 0.5625\n",
      "bestIteration = 6\n",
      "\n",
      "44:\tloss: 0.5625000\tbest: 0.5625000 (40)\ttotal: 8m 18s\tremaining: 55.4s\n",
      "\n",
      "bestTest = 0.5625\n",
      "bestIteration = 6\n",
      "\n",
      "\n",
      "bestTest = 0.5625\n",
      "bestIteration = 6\n",
      "\n",
      "46:\tloss: 0.5625000\tbest: 0.5625000 (40)\ttotal: 10m 32s\tremaining: 40.4s\n",
      "\n",
      "bestTest = 0.5625\n",
      "bestIteration = 6\n",
      "\n",
      "\n",
      "bestTest = 0.5625\n",
      "bestIteration = 6\n",
      "\n",
      "48:\tloss: 0.5625000\tbest: 0.5625000 (40)\ttotal: 13m 44s\tremaining: 16.8s\n",
      "\n",
      "bestTest = 0.5625\n",
      "bestIteration = 6\n",
      "\n",
      "49:\tloss: 0.5625000\tbest: 0.5625000 (40)\ttotal: 15m 45s\tremaining: 0us\n",
      "Estimating final quality...\n",
      "Training on fold [0/5]\n",
      "\n",
      "bestTest = 0.4705882353\n",
      "bestIteration = 5\n",
      "\n",
      "Training on fold [1/5]\n",
      "\n",
      "bestTest = 0.5625\n",
      "bestIteration = 5\n",
      "\n",
      "Training on fold [2/5]\n",
      "\n",
      "bestTest = 0.6666666667\n",
      "bestIteration = 2\n",
      "\n",
      "Training on fold [3/5]\n",
      "\n",
      "bestTest = 0.7857142857\n",
      "bestIteration = 5\n",
      "\n",
      "Training on fold [4/5]\n",
      "\n",
      "bestTest = 0.4285714286\n",
      "bestIteration = 1\n",
      "\n",
      " Results from Randomized Search \n",
      "{'depth': 10, 'iterations': 10, 'learning_rate': 0.01}\n",
      "CPU times: user 1h 2min 32s, sys: 30.6 s, total: 1h 3min 3s\n",
      "Wall time: 17min 30s\n"
     ]
    }
   ],
   "source": [
    "%%time\n",
    "\n",
    "#df\n",
    "train_pool = Pool(\n",
    "    features_train_tfidf, \n",
    "    target_train\n",
    ")\n",
    "test_pool = Pool(\n",
    "    features_test_tfidf, \n",
    "    target_test\n",
    ")\n",
    "\n",
    "parameters = {'depth': range(2,11, 2),\n",
    "              'learning_rate' : [0.005, 0.001, 0.01],\n",
    "              'iterations': range(10, 101, 10)\n",
    "                 }\n",
    "catboost_params = {\n",
    "    'eval_metric': 'Accuracy',\n",
    "    'verbose': 0\n",
    "}\n",
    "\n",
    "model = CatBoostClassifier(**catboost_params)\n",
    "\n",
    "\n",
    "randomized_search_result = model.randomized_search(parameters,\n",
    "                        X=train_pool,\n",
    "                        cv = 5, \n",
    "                        n_iter=50,\n",
    "                        verbose=2)\n",
    "\n",
    "\n",
    "print(\" Results from Randomized Search \" )\n",
    "\n",
    "print(randomized_search_result['params'])"
   ]
  },
  {
   "cell_type": "code",
   "execution_count": 57,
   "metadata": {},
   "outputs": [
    {
     "name": "stdout",
     "output_type": "stream",
     "text": [
      "\n",
      "Acuuracy лучшей модели CatBoost: 0.583\n"
     ]
    }
   ],
   "source": [
    "accuracy_cb = np.mean([0.4705882353, 0.5625, 0.6666666667, 0.7857142857, 0.4285714286])\n",
    "print()\n",
    "print('Acuuracy лучшей модели CatBoost:', round(accuracy_cb, 3))"
   ]
  },
  {
   "cell_type": "code",
   "execution_count": 41,
   "metadata": {
    "scrolled": true
   },
   "outputs": [
    {
     "name": "stdout",
     "output_type": "stream",
     "text": [
      "\n",
      "bestTest = 0.45\n",
      "bestIteration = 5\n",
      "\n",
      "0:\tloss: 0.4500000\tbest: 0.4500000 (0)\ttotal: 1.24s\tremaining: 1m\n",
      "\n",
      "bestTest = 0.45\n",
      "bestIteration = 5\n",
      "\n",
      "\n",
      "bestTest = 0.45\n",
      "bestIteration = 5\n",
      "\n",
      "2:\tloss: 0.4500000\tbest: 0.4500000 (0)\ttotal: 4.64s\tremaining: 1m 12s\n",
      "\n",
      "bestTest = 0.45\n",
      "bestIteration = 4\n",
      "\n",
      "\n",
      "bestTest = 0.45\n",
      "bestIteration = 5\n",
      "\n",
      "4:\tloss: 0.4500000\tbest: 0.4500000 (0)\ttotal: 15s\tremaining: 2m 14s\n",
      "\n",
      "bestTest = 0.45\n",
      "bestIteration = 5\n",
      "\n",
      "\n",
      "bestTest = 0.45\n",
      "bestIteration = 5\n",
      "\n",
      "6:\tloss: 0.4500000\tbest: 0.4500000 (0)\ttotal: 24.8s\tremaining: 2m 32s\n",
      "\n",
      "bestTest = 0.45\n",
      "bestIteration = 4\n",
      "\n",
      "\n",
      "bestTest = 0.45\n",
      "bestIteration = 5\n",
      "\n",
      "8:\tloss: 0.4500000\tbest: 0.4500000 (0)\ttotal: 31.8s\tremaining: 2m 25s\n",
      "\n",
      "bestTest = 0.45\n",
      "bestIteration = 4\n",
      "\n",
      "\n",
      "bestTest = 0.5\n",
      "bestIteration = 2\n",
      "\n",
      "10:\tloss: 0.5000000\tbest: 0.5000000 (10)\ttotal: 37.8s\tremaining: 2m 14s\n",
      "\n",
      "bestTest = 0.5\n",
      "bestIteration = 2\n",
      "\n",
      "\n",
      "bestTest = 0.5\n",
      "bestIteration = 2\n",
      "\n",
      "12:\tloss: 0.5000000\tbest: 0.5000000 (10)\ttotal: 47.9s\tremaining: 2m 16s\n",
      "\n",
      "bestTest = 0.5\n",
      "bestIteration = 2\n",
      "\n",
      "\n",
      "bestTest = 0.5\n",
      "bestIteration = 2\n",
      "\n",
      "14:\tloss: 0.5000000\tbest: 0.5000000 (10)\ttotal: 1m 2s\tremaining: 2m 26s\n",
      "\n",
      "bestTest = 0.5\n",
      "bestIteration = 2\n",
      "\n",
      "\n",
      "bestTest = 0.5\n",
      "bestIteration = 2\n",
      "\n",
      "16:\tloss: 0.5000000\tbest: 0.5000000 (10)\ttotal: 1m 22s\tremaining: 2m 40s\n",
      "\n",
      "bestTest = 0.5\n",
      "bestIteration = 2\n",
      "\n",
      "\n",
      "bestTest = 0.5\n",
      "bestIteration = 2\n",
      "\n",
      "18:\tloss: 0.5000000\tbest: 0.5000000 (10)\ttotal: 1m 46s\tremaining: 2m 53s\n",
      "\n",
      "bestTest = 0.5\n",
      "bestIteration = 2\n",
      "\n",
      "\n",
      "bestTest = 0.45\n",
      "bestIteration = 3\n",
      "\n",
      "20:\tloss: 0.4500000\tbest: 0.5000000 (10)\ttotal: 2m 4s\tremaining: 2m 51s\n",
      "\n",
      "bestTest = 0.45\n",
      "bestIteration = 3\n",
      "\n",
      "\n",
      "bestTest = 0.45\n",
      "bestIteration = 3\n",
      "\n",
      "22:\tloss: 0.4500000\tbest: 0.5000000 (10)\ttotal: 2m 19s\tremaining: 2m 44s\n",
      "\n",
      "bestTest = 0.45\n",
      "bestIteration = 3\n",
      "\n",
      "\n",
      "bestTest = 0.45\n",
      "bestIteration = 3\n",
      "\n",
      "24:\tloss: 0.4500000\tbest: 0.5000000 (10)\ttotal: 2m 40s\tremaining: 2m 40s\n",
      "\n",
      "bestTest = 0.45\n",
      "bestIteration = 3\n",
      "\n",
      "\n",
      "bestTest = 0.45\n",
      "bestIteration = 3\n",
      "\n",
      "26:\tloss: 0.4500000\tbest: 0.5000000 (10)\ttotal: 3m 11s\tremaining: 2m 43s\n",
      "\n",
      "bestTest = 0.45\n",
      "bestIteration = 3\n",
      "\n",
      "\n",
      "bestTest = 0.45\n",
      "bestIteration = 3\n",
      "\n",
      "28:\tloss: 0.4500000\tbest: 0.5000000 (10)\ttotal: 3m 54s\tremaining: 2m 49s\n",
      "\n",
      "bestTest = 0.45\n",
      "bestIteration = 3\n",
      "\n",
      "\n",
      "bestTest = 0.5\n",
      "bestIteration = 79\n",
      "\n",
      "30:\tloss: 0.5000000\tbest: 0.5000000 (10)\ttotal: 4m 52s\tremaining: 2m 59s\n",
      "\n",
      "bestTest = 0.45\n",
      "bestIteration = 3\n",
      "\n",
      "\n",
      "bestTest = 0.5\n",
      "bestIteration = 79\n",
      "\n",
      "32:\tloss: 0.5000000\tbest: 0.5000000 (10)\ttotal: 6m 7s\tremaining: 3m 9s\n",
      "\n",
      "bestTest = 0.55\n",
      "bestIteration = 4\n",
      "\n",
      "\n",
      "bestTest = 0.6\n",
      "bestIteration = 23\n",
      "\n",
      "34:\tloss: 0.6000000\tbest: 0.6000000 (34)\ttotal: 7m 3s\tremaining: 3m 1s\n",
      "\n",
      "bestTest = 0.6\n",
      "bestIteration = 23\n",
      "\n",
      "\n",
      "bestTest = 0.6\n",
      "bestIteration = 23\n",
      "\n",
      "36:\tloss: 0.6000000\tbest: 0.6000000 (34)\ttotal: 8m 44s\tremaining: 3m 4s\n",
      "\n",
      "bestTest = 0.6\n",
      "bestIteration = 23\n",
      "\n",
      "\n",
      "bestTest = 0.6\n",
      "bestIteration = 23\n",
      "\n",
      "38:\tloss: 0.6000000\tbest: 0.6000000 (34)\ttotal: 11m\tremaining: 3m 6s\n",
      "\n",
      "bestTest = 0.6\n",
      "bestIteration = 23\n",
      "\n",
      "\n",
      "bestTest = 0.45\n",
      "bestIteration = 9\n",
      "\n",
      "40:\tloss: 0.4500000\tbest: 0.6000000 (34)\ttotal: 13m\tremaining: 2m 51s\n",
      "\n",
      "bestTest = 0.45\n",
      "bestIteration = 9\n",
      "\n",
      "\n",
      "bestTest = 0.45\n",
      "bestIteration = 9\n",
      "\n",
      "42:\tloss: 0.4500000\tbest: 0.6000000 (34)\ttotal: 15m 12s\tremaining: 2m 28s\n",
      "\n",
      "bestTest = 0.5\n",
      "bestIteration = 34\n",
      "\n",
      "\n",
      "bestTest = 0.5\n",
      "bestIteration = 38\n",
      "\n",
      "44:\tloss: 0.5000000\tbest: 0.6000000 (34)\ttotal: 20m 14s\tremaining: 2m 14s\n",
      "\n",
      "bestTest = 0.5\n",
      "bestIteration = 27\n",
      "\n",
      "\n",
      "bestTest = 0.5\n",
      "bestIteration = 34\n",
      "\n",
      "46:\tloss: 0.5000000\tbest: 0.6000000 (34)\ttotal: 26m\tremaining: 1m 39s\n",
      "\n",
      "bestTest = 0.5\n",
      "bestIteration = 27\n",
      "\n",
      "\n",
      "bestTest = 0.5\n",
      "bestIteration = 34\n",
      "\n",
      "48:\tloss: 0.5000000\tbest: 0.6000000 (34)\ttotal: 34m 9s\tremaining: 41.8s\n",
      "\n",
      "bestTest = 0.5\n",
      "bestIteration = 34\n",
      "\n",
      "49:\tloss: 0.5000000\tbest: 0.6000000 (34)\ttotal: 39m 4s\tremaining: 0us\n",
      "Estimating final quality...\n",
      "Training on fold [0/5]\n",
      "\n",
      "bestTest = 0.4285714286\n",
      "bestIteration = 0\n",
      "\n",
      "Training on fold [1/5]\n",
      "\n",
      "bestTest = 0.55\n",
      "bestIteration = 23\n",
      "\n",
      "Training on fold [2/5]\n",
      "\n",
      "bestTest = 0.6842105263\n",
      "bestIteration = 9\n",
      "\n",
      "Training on fold [3/5]\n",
      "\n",
      "bestTest = 0.5\n",
      "bestIteration = 8\n",
      "\n",
      "Training on fold [4/5]\n",
      "\n",
      "bestTest = 0.4444444444\n",
      "bestIteration = 15\n",
      "\n",
      " Results from Randomized Search \n",
      "{'depth': 8, 'iterations': 40, 'learning_rate': 0.005}\n",
      "CPU times: user 1h 56min 30s, sys: 4min 7s, total: 2h 37s\n",
      "Wall time: 42min 40s\n"
     ]
    }
   ],
   "source": [
    "%%time\n",
    "\n",
    "# df_all\n",
    "train_pool_all = Pool(\n",
    "    features_all_train_tfidf, \n",
    "    target_all_train\n",
    ")\n",
    "test_pool_all = Pool(\n",
    "    features_all_test_tfidf, \n",
    "    target_all_test\n",
    ")\n",
    "\n",
    "parameters = {'depth': range(2,11, 2),\n",
    "              'learning_rate' : [0.005, 0.001, 0.01],\n",
    "              'iterations': range(10, 101, 10)\n",
    "                 }\n",
    "catboost_params = {\n",
    "    'eval_metric': 'Accuracy',\n",
    "    'verbose': 0\n",
    "}\n",
    "\n",
    "model = CatBoostClassifier(**catboost_params)\n",
    "\n",
    "\n",
    "randomized_search_result_all = model.randomized_search(parameters,\n",
    "                        X=train_pool_all,\n",
    "                        cv = 5, \n",
    "                        n_iter=50,\n",
    "                        verbose=2)\n",
    "\n",
    "\n",
    "print(\" Results from Randomized Search \" )\n",
    "\n",
    "print(randomized_search_result_all['params'])"
   ]
  },
  {
   "cell_type": "code",
   "execution_count": 58,
   "metadata": {},
   "outputs": [
    {
     "name": "stdout",
     "output_type": "stream",
     "text": [
      "\n",
      "Acuuracy лучшей модели CatBoost: 0.521\n"
     ]
    }
   ],
   "source": [
    "accuracy_cb = np.mean([0.4285714286, 0.55, 0.6842105263, 0.5, 0.4444444444])\n",
    "print()\n",
    "print('Acuuracy лучшей модели CatBoost:', round(accuracy_cb, 3))"
   ]
  },
  {
   "cell_type": "markdown",
   "metadata": {},
   "source": [
    "### BERT"
   ]
  },
  {
   "cell_type": "markdown",
   "metadata": {},
   "source": [
    "Обучим модель логистической регрессии на эмбеддингах (проведём только для расширенного датасета данных)."
   ]
  },
  {
   "cell_type": "code",
   "execution_count": 42,
   "metadata": {},
   "outputs": [],
   "source": [
    "# Загрузим предобученную модель и токенизатор\n",
    "model_class, tokenizer_class, pretrained_weights = (transformers.DistilBertModel, \n",
    "                                                    transformers.DistilBertTokenizer, \n",
    "                                                    'distilbert-base-uncased')\n",
    "\n",
    "tokenizer = tokenizer_class.from_pretrained(pretrained_weights)\n",
    "model = model_class.from_pretrained(pretrained_weights)"
   ]
  },
  {
   "cell_type": "code",
   "execution_count": 43,
   "metadata": {
    "scrolled": true
   },
   "outputs": [],
   "source": [
    "# токенизируем текст \n",
    "# разрешим сокращение текстов до 512 слов (truncation=True)\n",
    "tokenized = df_all['Sub'].apply((lambda x: tokenizer.encode(x, add_special_tokens=True, truncation=True)))"
   ]
  },
  {
   "cell_type": "code",
   "execution_count": 44,
   "metadata": {},
   "outputs": [
    {
     "data": {
      "text/plain": [
       "512"
      ]
     },
     "execution_count": 44,
     "metadata": {},
     "output_type": "execute_result"
    }
   ],
   "source": [
    "# найдем максимальную длину векторов после токенизации\n",
    "max_len = 0\n",
    "for i in tokenized.values:\n",
    "    if len(i) > max_len:\n",
    "        max_len = len(i)\n",
    "max_len"
   ]
  },
  {
   "cell_type": "code",
   "execution_count": 45,
   "metadata": {},
   "outputs": [],
   "source": [
    "# применим padding к векторам\n",
    "padded = np.array([i + [0]*(max_len-len(i)) for i in tokenized.values])"
   ]
  },
  {
   "cell_type": "code",
   "execution_count": 46,
   "metadata": {},
   "outputs": [
    {
     "data": {
      "text/plain": [
       "(107, 512)"
      ]
     },
     "execution_count": 46,
     "metadata": {},
     "output_type": "execute_result"
    }
   ],
   "source": [
    "np.array(padded).shape"
   ]
  },
  {
   "cell_type": "code",
   "execution_count": 47,
   "metadata": {},
   "outputs": [
    {
     "data": {
      "text/plain": [
       "(107, 512)"
      ]
     },
     "execution_count": 47,
     "metadata": {},
     "output_type": "execute_result"
    }
   ],
   "source": [
    "# создадим маску для важных токенов\n",
    "attention_mask = np.where(padded != 0, 1, 0)\n",
    "attention_mask.shape"
   ]
  },
  {
   "cell_type": "markdown",
   "metadata": {},
   "source": [
    "Сформируем эмбеддинги моделью BERT"
   ]
  },
  {
   "cell_type": "code",
   "execution_count": 48,
   "metadata": {},
   "outputs": [
    {
     "data": {
      "application/vnd.jupyter.widget-view+json": {
       "model_id": "05e4135c6653426eb31ca39839a40202",
       "version_major": 2,
       "version_minor": 0
      },
      "text/plain": [
       "  0%|          | 0/11 [00:00<?, ?it/s]"
      ]
     },
     "metadata": {},
     "output_type": "display_data"
    }
   ],
   "source": [
    "batch_size = 10\n",
    "embeddings = []\n",
    "for i in notebook.tqdm(range(padded.shape[0] // batch_size + 1)):\n",
    "        batch = torch.LongTensor(padded[batch_size*i:batch_size*(i+1)]) \n",
    "        attention_mask_batch = torch.LongTensor(attention_mask[batch_size*i:batch_size*(i+1)])\n",
    "        \n",
    "        with torch.no_grad():\n",
    "            batch_embeddings = model(batch, attention_mask=attention_mask_batch)\n",
    "        \n",
    "        embeddings.append(batch_embeddings[0][:,0,:].numpy())"
   ]
  },
  {
   "cell_type": "code",
   "execution_count": 49,
   "metadata": {},
   "outputs": [],
   "source": [
    "features = np.concatenate(embeddings)\n",
    "target = df_all['level_num']"
   ]
  },
  {
   "cell_type": "markdown",
   "metadata": {},
   "source": [
    "Разделим данные на обучающую и тестовую выборки"
   ]
  },
  {
   "cell_type": "code",
   "execution_count": 50,
   "metadata": {},
   "outputs": [
    {
     "name": "stdout",
     "output_type": "stream",
     "text": [
      "(96, 768) (11, 768)\n",
      "(96,) (11,)\n"
     ]
    }
   ],
   "source": [
    "features_train, features_test, target_train, target_test = train_test_split(features, \n",
    "                                                                            target, \n",
    "                                                                            test_size = .10,\n",
    "                                                                            stratify = target,\n",
    "                                                                            random_state=RANDOM_STATE)\n",
    "print(features_train.shape, features_test.shape)\n",
    "print(target_train.shape, target_test.shape)"
   ]
  },
  {
   "cell_type": "markdown",
   "metadata": {},
   "source": [
    "Обучим модель логистической регрессии при разных гиперпараметрах"
   ]
  },
  {
   "cell_type": "code",
   "execution_count": 56,
   "metadata": {
    "scrolled": true
   },
   "outputs": [
    {
     "name": "stdout",
     "output_type": "stream",
     "text": [
      "Fitting 3 folds for each of 2 candidates, totalling 6 fits\n",
      "Параметры лучшей модели логистической регрессии:\n",
      " LogisticRegression(random_state=12345, solver='liblinear')\n",
      "\n",
      "Accuracy лучшей модели логистической регрессии: 0.417\n",
      "\n",
      "CPU times: user 80.9 ms, sys: 134 ms, total: 215 ms\n",
      "Wall time: 1.63 s\n"
     ]
    }
   ],
   "source": [
    "%%time\n",
    "\n",
    "param_dist = {\n",
    "    'solver':['liblinear', 'newton-cg'],\n",
    "    'penalty': ['l2']\n",
    "}\n",
    "\n",
    "model = LogisticRegression(random_state=RANDOM_STATE)\n",
    "grid = GridSearchCV(model, \n",
    "                          param_dist, \n",
    "                          cv = 3, \n",
    "                          scoring = 'accuracy',  \n",
    "                          n_jobs = -1,\n",
    "                          verbose=2)\n",
    "\n",
    "grid.fit(features_train, target_train)\n",
    "# выведем модель с наилучшей оценкой\n",
    "best_estimator_bert = grid.best_estimator_\n",
    "print(\"Параметры лучшей модели логистической регрессии:\\n\", best_estimator_bert)\n",
    "print()\n",
    "# выведем наилучшую оценку\n",
    "acc_bert = grid.best_score_ \n",
    "print(\"Accuracy лучшей модели логистической регрессии:\", acc_bert.round(3))\n",
    "print()"
   ]
  },
  {
   "cell_type": "markdown",
   "metadata": {},
   "source": [
    "### Сравнение моделей"
   ]
  },
  {
   "cell_type": "code",
   "execution_count": 68,
   "metadata": {},
   "outputs": [
    {
     "data": {
      "text/html": [
       "<div>\n",
       "<style scoped>\n",
       "    .dataframe tbody tr th:only-of-type {\n",
       "        vertical-align: middle;\n",
       "    }\n",
       "\n",
       "    .dataframe tbody tr th {\n",
       "        vertical-align: top;\n",
       "    }\n",
       "\n",
       "    .dataframe thead th {\n",
       "        text-align: right;\n",
       "    }\n",
       "</style>\n",
       "<table border=\"1\" class=\"dataframe\">\n",
       "  <thead>\n",
       "    <tr style=\"text-align: right;\">\n",
       "      <th></th>\n",
       "      <th>model</th>\n",
       "      <th>Accuracy</th>\n",
       "      <th>Accuracy_all_data</th>\n",
       "    </tr>\n",
       "  </thead>\n",
       "  <tbody>\n",
       "    <tr>\n",
       "      <th>2</th>\n",
       "      <td>CatBoostClassifier</td>\n",
       "      <td>0.583</td>\n",
       "      <td>0.521</td>\n",
       "    </tr>\n",
       "    <tr>\n",
       "      <th>1</th>\n",
       "      <td>RandomForestClassifier</td>\n",
       "      <td>0.593</td>\n",
       "      <td>0.500</td>\n",
       "    </tr>\n",
       "    <tr>\n",
       "      <th>0</th>\n",
       "      <td>LogisticRegression</td>\n",
       "      <td>0.333</td>\n",
       "      <td>0.455</td>\n",
       "    </tr>\n",
       "    <tr>\n",
       "      <th>3</th>\n",
       "      <td>LogRegression with BERT</td>\n",
       "      <td>-</td>\n",
       "      <td>0.417</td>\n",
       "    </tr>\n",
       "  </tbody>\n",
       "</table>\n",
       "</div>"
      ],
      "text/plain": [
       "                     model Accuracy  Accuracy_all_data\n",
       "2       CatBoostClassifier    0.583              0.521\n",
       "1   RandomForestClassifier    0.593              0.500\n",
       "0       LogisticRegression    0.333              0.455\n",
       "3  LogRegression with BERT        -              0.417"
      ]
     },
     "execution_count": 68,
     "metadata": {},
     "output_type": "execute_result"
    }
   ],
   "source": [
    "compare = {'model': ['LogisticRegression',\n",
    "                     'RandomForestClassifier',\n",
    "                     'CatBoostClassifier',\n",
    "                     'LogRegression with BERT'],\n",
    "           'Accuracy': [0.333,\n",
    "                      0.593,\n",
    "                      0.583,\n",
    "                      '-'],\n",
    "            'Accuracy_all_data': [0.455,\n",
    "                      0.5,\n",
    "                      0.521,\n",
    "                      0.417]}\n",
    "compare = pd.DataFrame(data=compare)\n",
    "compare.sort_values(by='Accuracy_all_data', ascending=False)"
   ]
  },
  {
   "cell_type": "markdown",
   "metadata": {},
   "source": [
    "\n",
    "Наибольшее значение accuracy получается при использовании модели градиентного бустинга CatBoost: проверим эту модель на тестовой выборке."
   ]
  },
  {
   "cell_type": "markdown",
   "metadata": {},
   "source": [
    "### Вывод"
   ]
  },
  {
   "cell_type": "markdown",
   "metadata": {},
   "source": [
    "В результате обучения трёх моделей на исходном и расширенном наборе фильмов наилучший результат на кросс-валидации показала модель CatBoost (accuracy = 0.521 на расширенном наборе), при этом обучение и поиск лучшей модели заняли довольно много времени по сравнению с другими моделями. \n",
    "\n",
    "Проверим качество лучших моделей на тестовых выборках."
   ]
  },
  {
   "cell_type": "markdown",
   "metadata": {},
   "source": [
    "## Проверка моделей на тестовой выборке"
   ]
  },
  {
   "cell_type": "markdown",
   "metadata": {},
   "source": [
    "### Градиентный бустинг CatBoost"
   ]
  },
  {
   "cell_type": "code",
   "execution_count": 64,
   "metadata": {},
   "outputs": [
    {
     "name": "stdout",
     "output_type": "stream",
     "text": [
      "Accuracy на тестовой выборке расширенного датасета 0.364\n"
     ]
    }
   ],
   "source": [
    "catboost_params = {\n",
    "    'eval_metric': 'Accuracy',\n",
    "    'verbose': 0,\n",
    "    'depth': 8, \n",
    "    'iterations': 90, \n",
    "    'learning_rate': 0.005\n",
    "}\n",
    "cb_model = CatBoostClassifier(**catboost_params)\n",
    "cb_model.fit(train_pool_all)\n",
    "cb_pred_all = cb_model.predict(test_pool_all)\n",
    "print(\"Accuracy на тестовой выборке расширенного датасета\", round(accuracy_score(target_all_test, cb_pred_all), 3))"
   ]
  },
  {
   "cell_type": "markdown",
   "metadata": {},
   "source": [
    "### BERT"
   ]
  },
  {
   "cell_type": "markdown",
   "metadata": {},
   "source": [
    "Проверим модель на тестовой выборке"
   ]
  },
  {
   "cell_type": "code",
   "execution_count": 52,
   "metadata": {},
   "outputs": [],
   "source": [
    "best_estimator_bert.fit(features_train, target_train)\n",
    "predictions_bert = best_estimator_bert.predict(features_test)"
   ]
  },
  {
   "cell_type": "code",
   "execution_count": 66,
   "metadata": {},
   "outputs": [
    {
     "name": "stdout",
     "output_type": "stream",
     "text": [
      "Accuracy score (BERT): 0.455\n"
     ]
    }
   ],
   "source": [
    "print(\"Accuracy score (BERT):\", round(accuracy_score(target_test, predictions_bert), 3))"
   ]
  },
  {
   "cell_type": "markdown",
   "metadata": {},
   "source": [
    "### Наивная модель DummyClassifier"
   ]
  },
  {
   "cell_type": "markdown",
   "metadata": {},
   "source": [
    "Проверим модели на адекватность с помощью DummyClassifier."
   ]
  },
  {
   "cell_type": "code",
   "execution_count": 67,
   "metadata": {},
   "outputs": [
    {
     "name": "stdout",
     "output_type": "stream",
     "text": [
      "Accuracy наивной модели для расширенной выборки фильмов: 0.364\n"
     ]
    }
   ],
   "source": [
    "dummy_clf = DummyClassifier(strategy='most_frequent', random_state=RANDOM_STATE)\n",
    "dummy_clf.fit(features_all_train_tfidf, target_all_train)\n",
    "\n",
    "print( \"Accuracy наивной модели для расширенной выборки фильмов:\", \n",
    "      dummy_clf.score(features_all_test_tfidf, target_all_test).round(3))"
   ]
  },
  {
   "cell_type": "markdown",
   "metadata": {},
   "source": [
    "Модель логистической регрессии, обученная на эмбеддингах, созданных с помощью BERT, имеет значение accuracy выше, чем показывет наивная модель."
   ]
  },
  {
   "cell_type": "markdown",
   "metadata": {},
   "source": [
    "## Выводы"
   ]
  },
  {
   "cell_type": "markdown",
   "metadata": {},
   "source": [
    "Целью проекта является разработка алгоритма машинного обучения для автоматического определения уровня сложности англоязычных фильмов.  \n",
    "Для реализации целей проекта были реализованы следующие задачи:\n",
    "* произведён поиск дополнительных данных - набор данных был расширен на 25% до 107 фильмов\n",
    "* произведена предобработка исходных и дополнительных данных, в том числе был подготовлен и перекодирован целевой признак\n",
    "* подготовлены субтитры: для каждого фильма из соответствующего файла с субтитрами был извлёчен текст и преобразован (проведена лемматизация слов; удаление пунктуации, стоп-слов, имён собственых)\n",
    "* проведена векторизация текстовых данных по методу TF-IDF\n",
    "* были обучены три вида моделей: логистическая регрессия, случайный лес и градинтный бустинг CatBoost; для моделей найдены лучшие гиперпараметры.\n",
    "\n",
    "\n",
    "Лучшие результаты на кросс-валидации показала модель CatBoost (accuracy = 0.521 на расширенном наборе),однако на тестовой выборке качество предсказаний снизилось до 0.364.\n",
    "Наилучший результат на тестовой выборке показала модель логистической регрессии, обученная на эмбеддингах: accuracy = 0.455 на расширенном наборе.\n",
    "\n",
    "Для улучшения метрик можно предпринять следующие действия:\n",
    "* существенно расширить набор данных\n",
    "* более качественно разметить данные:\n",
    "    * некоторые фильмы имеют 2-3 категории уровня языка, неясно, какой именно категории нужно отдать предпочтение; \n",
    "    * данные взяты из разных источников - возможно, что уровень языка для фильмов определён по разным критериям\n",
    "* попробовать другие методы векторизации тектовых данных"
   ]
  }
 ],
 "metadata": {
  "kernelspec": {
   "display_name": "Python 3",
   "language": "python",
   "name": "python3"
  },
  "language_info": {
   "codemirror_mode": {
    "name": "ipython",
    "version": 3
   },
   "file_extension": ".py",
   "mimetype": "text/x-python",
   "name": "python",
   "nbconvert_exporter": "python",
   "pygments_lexer": "ipython3",
   "version": "3.6.9"
  },
  "toc": {
   "base_numbering": 1,
   "nav_menu": {},
   "number_sections": false,
   "sideBar": true,
   "skip_h1_title": true,
   "title_cell": "Содержание",
   "title_sidebar": "Contents",
   "toc_cell": true,
   "toc_position": {
    "height": "calc(100% - 180px)",
    "left": "10px",
    "top": "150px",
    "width": "276px"
   },
   "toc_section_display": true,
   "toc_window_display": true
  }
 },
 "nbformat": 4,
 "nbformat_minor": 2
}
