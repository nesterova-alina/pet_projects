{
 "cells": [
  {
   "cell_type": "markdown",
   "metadata": {
    "toc": true
   },
   "source": [
    "<h1>Содержание<span class=\"tocSkip\"></span></h1>\n",
    "<div class=\"toc\"><ul class=\"toc-item\"><li><ul class=\"toc-item\"><li><span><a href=\"#Подключение-к-базе,-импорт-библиотек\" data-toc-modified-id=\"Подключение-к-базе,-импорт-библиотек-0.1\">Подключение к базе, импорт библиотек</a></span></li></ul></li><li><span><a href=\"#Задача-1\" data-toc-modified-id=\"Задача-1-1\">Задача 1</a></span></li><li><span><a href=\"#Задача-2\" data-toc-modified-id=\"Задача-2-2\">Задача 2</a></span><ul class=\"toc-item\"><li><span><a href=\"#1.\" data-toc-modified-id=\"1.-2.1\">1.</a></span></li><li><span><a href=\"#2.\" data-toc-modified-id=\"2.-2.2\">2.</a></span></li></ul></li><li><span><a href=\"#Задача-3\" data-toc-modified-id=\"Задача-3-3\">Задача 3</a></span><ul class=\"toc-item\"><li><span><a href=\"#1.\" data-toc-modified-id=\"1.-3.1\">1.</a></span></li><li><span><a href=\"#2.\" data-toc-modified-id=\"2.-3.2\">2.</a></span></li><li><span><a href=\"#3.\" data-toc-modified-id=\"3.-3.3\">3.</a></span></li><li><span><a href=\"#4.\" data-toc-modified-id=\"4.-3.4\">4.</a></span></li><li><span><a href=\"#5.\" data-toc-modified-id=\"5.-3.5\">5.</a></span></li></ul></li><li><span><a href=\"#Задача-4\" data-toc-modified-id=\"Задача-4-4\">Задача 4</a></span></li></ul></div>"
   ]
  },
  {
   "cell_type": "markdown",
   "metadata": {
    "id": "INs-ZnB6Hu-N"
   },
   "source": [
    "# Тестовое задание по SQL"
   ]
  },
  {
   "cell_type": "markdown",
   "metadata": {},
   "source": [
    "Здесь представлены решения для пробных заданий по SQL. \n",
    "\n",
    "Для некоторых заданий была предоставлена тестовая база данных. Для заданий без доступа к базе данных составлялся аналог необходимых таблиц в отдельной \"тестовой\" базе данных."
   ]
  },
  {
   "cell_type": "markdown",
   "metadata": {},
   "source": [
    "### Подключение к базе, импорт библиотек"
   ]
  },
  {
   "cell_type": "code",
   "execution_count": 1,
   "metadata": {},
   "outputs": [],
   "source": [
    "# Для создания своей БД\n",
    "import sqlite3\n",
    "import pandas as pd\n",
    "import numpy as np\n",
    "import random\n",
    "from datetime import date, timedelta\n",
    "con = sqlite3.connect('test.db')"
   ]
  },
  {
   "cell_type": "code",
   "execution_count": 2,
   "metadata": {},
   "outputs": [],
   "source": [
    "# Подключение к существующей БД\n",
    "from sqlalchemy import create_engine\n",
    "import pandas as pd\n",
    "\n",
    "db_config = {\n",
    "    'user': user, # имя пользователя\n",
    "    'pwd': pwd, # пароль\n",
    "    'host': host,\n",
    "    'port': port, # порт подключения\n",
    "    'db': db # название базы данных\n",
    "}  \n",
    "\n",
    "connection_string = 'postgresql://{}:{}@{}/{}?options=project%3Dep-wispy-shape-008661-pooler'.format(\n",
    "    db_config['user'],\n",
    "    db_config['pwd'],\n",
    "    db_config['host'],\n",
    "    db_config['db'],\n",
    ")\n",
    "\n",
    "engine = create_engine(connection_string) "
   ]
  },
  {
   "cell_type": "markdown",
   "metadata": {
    "id": "YFJi6kbQH-qH"
   },
   "source": [
    "## Задача 1"
   ]
  },
  {
   "attachments": {
    "image.png": {
     "image/png": "[encoded data removed]"
    }
   },
   "cell_type": "markdown",
   "metadata": {},
   "source": [
    "В таблице total_sales содержится информация о сделках.\n",
    "\n",
    "![image.png](attachment:image.png)\n",
    "Требуется написать SQL запрос, который к каждой транзакции добавит:\n",
    "- Дату первой сделки покупателя.\n",
    "- Дату предыдущей сделки покупателя.\n",
    "- Покажет общее количество товаров, купленных покупателем.\n",
    "- Присвоить всем сделкам покупателя / продавца порядковый номер."
   ]
  },
  {
   "cell_type": "code",
   "execution_count": 3,
   "metadata": {
    "id": "CWU_OmOiIEu1"
   },
   "outputs": [
    {
     "data": {
      "text/html": [
       "<div>\n",
       "<style scoped>\n",
       "    .dataframe tbody tr th:only-of-type {\n",
       "        vertical-align: middle;\n",
       "    }\n",
       "\n",
       "    .dataframe tbody tr th {\n",
       "        vertical-align: top;\n",
       "    }\n",
       "\n",
       "    .dataframe thead th {\n",
       "        text-align: right;\n",
       "    }\n",
       "</style>\n",
       "<table border=\"1\" class=\"dataframe\">\n",
       "  <thead>\n",
       "    <tr style=\"text-align: right;\">\n",
       "      <th></th>\n",
       "      <th>sales_id</th>\n",
       "      <th>date</th>\n",
       "      <th>buyer_id</th>\n",
       "      <th>seller_id</th>\n",
       "      <th>qty</th>\n",
       "      <th>qty_shipped</th>\n",
       "      <th>first_order_date</th>\n",
       "      <th>previous_order_date</th>\n",
       "      <th>total_qty</th>\n",
       "      <th>buyer_seller_orders_number</th>\n",
       "    </tr>\n",
       "  </thead>\n",
       "  <tbody>\n",
       "    <tr>\n",
       "      <th>0</th>\n",
       "      <td>774</td>\n",
       "      <td>2023-01-10</td>\n",
       "      <td>1</td>\n",
       "      <td>17</td>\n",
       "      <td>8</td>\n",
       "      <td>1</td>\n",
       "      <td>2023-01-10</td>\n",
       "      <td>None</td>\n",
       "      <td>37</td>\n",
       "      <td>2</td>\n",
       "    </tr>\n",
       "    <tr>\n",
       "      <th>1</th>\n",
       "      <td>457</td>\n",
       "      <td>2023-01-19</td>\n",
       "      <td>1</td>\n",
       "      <td>17</td>\n",
       "      <td>8</td>\n",
       "      <td>2</td>\n",
       "      <td>2023-01-10</td>\n",
       "      <td>2023-01-10</td>\n",
       "      <td>37</td>\n",
       "      <td>1</td>\n",
       "    </tr>\n",
       "    <tr>\n",
       "      <th>2</th>\n",
       "      <td>712</td>\n",
       "      <td>2023-01-27</td>\n",
       "      <td>1</td>\n",
       "      <td>18</td>\n",
       "      <td>6</td>\n",
       "      <td>7</td>\n",
       "      <td>2023-01-10</td>\n",
       "      <td>2023-01-19</td>\n",
       "      <td>37</td>\n",
       "      <td>1</td>\n",
       "    </tr>\n",
       "    <tr>\n",
       "      <th>3</th>\n",
       "      <td>174</td>\n",
       "      <td>2023-01-31</td>\n",
       "      <td>1</td>\n",
       "      <td>3</td>\n",
       "      <td>4</td>\n",
       "      <td>1</td>\n",
       "      <td>2023-01-10</td>\n",
       "      <td>2023-01-27</td>\n",
       "      <td>37</td>\n",
       "      <td>1</td>\n",
       "    </tr>\n",
       "    <tr>\n",
       "      <th>4</th>\n",
       "      <td>763</td>\n",
       "      <td>2023-01-31</td>\n",
       "      <td>1</td>\n",
       "      <td>13</td>\n",
       "      <td>0</td>\n",
       "      <td>1</td>\n",
       "      <td>2023-01-10</td>\n",
       "      <td>2023-01-31</td>\n",
       "      <td>37</td>\n",
       "      <td>1</td>\n",
       "    </tr>\n",
       "  </tbody>\n",
       "</table>\n",
       "</div>"
      ],
      "text/plain": [
       "   sales_id        date  buyer_id  seller_id  qty  qty_shipped  \\\n",
       "0       774  2023-01-10         1         17    8            1   \n",
       "1       457  2023-01-19         1         17    8            2   \n",
       "2       712  2023-01-27         1         18    6            7   \n",
       "3       174  2023-01-31         1          3    4            1   \n",
       "4       763  2023-01-31         1         13    0            1   \n",
       "\n",
       "  first_order_date previous_order_date  total_qty  buyer_seller_orders_number  \n",
       "0       2023-01-10                None         37                           2  \n",
       "1       2023-01-10          2023-01-10         37                           1  \n",
       "2       2023-01-10          2023-01-19         37                           1  \n",
       "3       2023-01-10          2023-01-27         37                           1  \n",
       "4       2023-01-10          2023-01-31         37                           1  "
      ]
     },
     "execution_count": 3,
     "metadata": {},
     "output_type": "execute_result"
    }
   ],
   "source": [
    "query = '''\n",
    "SELECT *,\n",
    "       FIRST_VALUE(date)\n",
    "         OVER (\n",
    "           PARTITION BY buyer_id\n",
    "           ORDER BY date)                    AS first_order_date,\n",
    "       LAG(date)\n",
    "         OVER (\n",
    "           PARTITION BY buyer_id\n",
    "           ORDER BY date)                    AS previous_order_date,\n",
    "       SUM(qty)\n",
    "         OVER (\n",
    "           PARTITION BY buyer_id)            AS total_qty,\n",
    "       ROW_NUMBER()\n",
    "         OVER (\n",
    "           PARTITION BY buyer_id, seller_id) AS buyer_seller_orders_number\n",
    "FROM   total_sales; \n",
    "'''\n",
    "pd.read_sql_query(query, con=engine).head()"
   ]
  },
  {
   "attachments": {
    "image.png": {
     "image/png": "[encoded data removed]"
    }
   },
   "cell_type": "markdown",
   "metadata": {
    "id": "tfkoIkGPIHHK"
   },
   "source": [
    "## Задача 2\n",
    "\n",
    "Схема базы данных\n",
    "\n",
    "![image.png](attachment:image.png)\n",
    "\n",
    "### 1.\n",
    "Составьте запросы к базе, отвечающие на вопросы:\n",
    "\n",
    "    a.Для каждого покупателя найдите магазин, в котором он совершил наибольшее количество покупок."
   ]
  },
  {
   "cell_type": "code",
   "execution_count": 4,
   "metadata": {
    "id": "KERcH0GhILf_"
   },
   "outputs": [
    {
     "data": {
      "text/html": [
       "<div>\n",
       "<style scoped>\n",
       "    .dataframe tbody tr th:only-of-type {\n",
       "        vertical-align: middle;\n",
       "    }\n",
       "\n",
       "    .dataframe tbody tr th {\n",
       "        vertical-align: top;\n",
       "    }\n",
       "\n",
       "    .dataframe thead th {\n",
       "        text-align: right;\n",
       "    }\n",
       "</style>\n",
       "<table border=\"1\" class=\"dataframe\">\n",
       "  <thead>\n",
       "    <tr style=\"text-align: right;\">\n",
       "      <th></th>\n",
       "      <th>customer_id</th>\n",
       "      <th>customer_nm</th>\n",
       "      <th>store_id</th>\n",
       "      <th>store_nm</th>\n",
       "    </tr>\n",
       "  </thead>\n",
       "  <tbody>\n",
       "    <tr>\n",
       "      <th>0</th>\n",
       "      <td>11</td>\n",
       "      <td>Customer 11</td>\n",
       "      <td>2</td>\n",
       "      <td>Store B</td>\n",
       "    </tr>\n",
       "  </tbody>\n",
       "</table>\n",
       "</div>"
      ],
      "text/plain": [
       "   customer_id  customer_nm  store_id store_nm\n",
       "0           11  Customer 11         2  Store B"
      ]
     },
     "execution_count": 4,
     "metadata": {},
     "output_type": "execute_result"
    }
   ],
   "source": [
    "query = '''\n",
    "WITH \n",
    "\n",
    "-- для каждого покупателя нумеруем магазины по убыванию количества покупок\n",
    "customer_store_orders\n",
    "     AS (SELECT customer_id,\n",
    "                store_id,\n",
    "                RANK()\n",
    "                  OVER (\n",
    "                    ORDER BY COUNT(sale_id) DESC) AS row_num\n",
    "         FROM   sales\n",
    "         GROUP  BY customer_id,\n",
    "                   store_id)\n",
    "                                     \n",
    "-- объединяем таблицы customers и stores с таблицей из подзапроса customer_store_orders                \n",
    "SELECT cs.customer_id,\n",
    "       cust.customer_nm,\n",
    "       cs.store_id,\n",
    "       st.store_nm\n",
    "FROM   customer_store_orders AS cs\n",
    "       JOIN customers AS cust\n",
    "         ON cust.customer_id = cs.customer_id\n",
    "       JOIN stores AS st\n",
    "         ON st.store_id = cs.store_id\n",
    "WHERE  cs.row_num = 1;\n",
    "'''\n",
    "pd.read_sql_query(query, con=engine) "
   ]
  },
  {
   "cell_type": "markdown",
   "metadata": {
    "id": "FARArKyNIOHm"
   },
   "source": [
    "    b. Найдите всех покупателей, которые в каждом полном месяце этого года совершали не менее 3 покупок."
   ]
  },
  {
   "cell_type": "code",
   "execution_count": 5,
   "metadata": {
    "id": "HW_f82mzIQ8P"
   },
   "outputs": [
    {
     "data": {
      "text/html": [
       "<div>\n",
       "<style scoped>\n",
       "    .dataframe tbody tr th:only-of-type {\n",
       "        vertical-align: middle;\n",
       "    }\n",
       "\n",
       "    .dataframe tbody tr th {\n",
       "        vertical-align: top;\n",
       "    }\n",
       "\n",
       "    .dataframe thead th {\n",
       "        text-align: right;\n",
       "    }\n",
       "</style>\n",
       "<table border=\"1\" class=\"dataframe\">\n",
       "  <thead>\n",
       "    <tr style=\"text-align: right;\">\n",
       "      <th></th>\n",
       "      <th>customer_id</th>\n",
       "    </tr>\n",
       "  </thead>\n",
       "  <tbody>\n",
       "    <tr>\n",
       "      <th>0</th>\n",
       "      <td>1</td>\n",
       "    </tr>\n",
       "    <tr>\n",
       "      <th>1</th>\n",
       "      <td>2</td>\n",
       "    </tr>\n",
       "    <tr>\n",
       "      <th>2</th>\n",
       "      <td>3</td>\n",
       "    </tr>\n",
       "    <tr>\n",
       "      <th>3</th>\n",
       "      <td>4</td>\n",
       "    </tr>\n",
       "    <tr>\n",
       "      <th>4</th>\n",
       "      <td>5</td>\n",
       "    </tr>\n",
       "  </tbody>\n",
       "</table>\n",
       "</div>"
      ],
      "text/plain": [
       "   customer_id\n",
       "0            1\n",
       "1            2\n",
       "2            3\n",
       "3            4\n",
       "4            5"
      ]
     },
     "execution_count": 5,
     "metadata": {},
     "output_type": "execute_result"
    }
   ],
   "source": [
    "query = '''\n",
    "WITH \n",
    "\n",
    "-- создадим фильтр для определения полных месяцев текущего года\n",
    "date_filter \n",
    "    AS (SELECT DATE_TRUNC('year', CURRENT_DATE)::date AS year,\n",
    "        DATE_TRUNC('month', CURRENT_DATE)::date - INTERVAL '1 day' AS full_month),\n",
    "\n",
    "-- посчитаем общее количество покупок в каждом месяце\n",
    "customer_sales_amt\n",
    "     AS (SELECT customer_id,\n",
    "                DATE_TRUNC('month', dt)::date AS month,\n",
    "                COUNT(*) AS sales_amt,\n",
    "                -- посчитаем, выполняется ли условие \"не менее трёх покупок в каждом месяце\"\n",
    "                BOOL_AND(COUNT(sale_id) > 2) OVER (PARTITION BY customer_id) AS sales_amt_bool\n",
    "         FROM   sales\n",
    "         WHERE  dt BETWEEN (SELECT year FROM date_filter) AND (SELECT full_month FROM date_filter)\n",
    "         GROUP BY customer_id, DATE_TRUNC('month', dt)::date),\n",
    "\n",
    "-- выведем информацию о количестве месяцев, в которые покупатели совершали покупки (проверка условия о каждом месяце)   \n",
    "customer_sales_true \n",
    "    AS (SELECT customer_id,\n",
    "               count(*) AS month_count\n",
    "         FROM   customer_sales_amt\n",
    "         WHERE sales_amt_bool = 'True'\n",
    "         GROUP BY customer_id)\n",
    "\n",
    "SELECT customer_id\n",
    "FROM customer_sales_true\n",
    "WHERE month_count = (SELECT MAX(month_count) FROM customer_sales_true);\n",
    "'''\n",
    "pd.read_sql_query(query, con=engine).head()"
   ]
  },
  {
   "attachments": {
    "image.png": {
     "image/png": "[encoded data removed]"
    }
   },
   "cell_type": "markdown",
   "metadata": {
    "id": "leU9SuUQIT1M"
   },
   "source": [
    "### 2. \n",
    "Напишите запрос, формирующий ниже представленный отчет.\n",
    "![image.png](attachment:image.png)"
   ]
  },
  {
   "cell_type": "code",
   "execution_count": 6,
   "metadata": {
    "id": "kHBv0BSHIXmH"
   },
   "outputs": [
    {
     "data": {
      "text/html": [
       "<div>\n",
       "<style scoped>\n",
       "    .dataframe tbody tr th:only-of-type {\n",
       "        vertical-align: middle;\n",
       "    }\n",
       "\n",
       "    .dataframe tbody tr th {\n",
       "        vertical-align: top;\n",
       "    }\n",
       "\n",
       "    .dataframe thead th {\n",
       "        text-align: right;\n",
       "    }\n",
       "</style>\n",
       "<table border=\"1\" class=\"dataframe\">\n",
       "  <thead>\n",
       "    <tr style=\"text-align: right;\">\n",
       "      <th></th>\n",
       "      <th>month_end_dt</th>\n",
       "      <th>company_sales_amt</th>\n",
       "      <th>store_nm</th>\n",
       "      <th>store_sales_amt</th>\n",
       "      <th>store_sales_share</th>\n",
       "    </tr>\n",
       "  </thead>\n",
       "  <tbody>\n",
       "    <tr>\n",
       "      <th>0</th>\n",
       "      <td>2023-01-31</td>\n",
       "      <td>30819</td>\n",
       "      <td>Store A</td>\n",
       "      <td>10180</td>\n",
       "      <td>0.330316</td>\n",
       "    </tr>\n",
       "    <tr>\n",
       "      <th>1</th>\n",
       "      <td>2023-01-31</td>\n",
       "      <td>30819</td>\n",
       "      <td>Store B</td>\n",
       "      <td>10442</td>\n",
       "      <td>0.338817</td>\n",
       "    </tr>\n",
       "    <tr>\n",
       "      <th>2</th>\n",
       "      <td>2023-01-31</td>\n",
       "      <td>30819</td>\n",
       "      <td>Store C</td>\n",
       "      <td>10197</td>\n",
       "      <td>0.330867</td>\n",
       "    </tr>\n",
       "    <tr>\n",
       "      <th>3</th>\n",
       "      <td>2023-02-28</td>\n",
       "      <td>28371</td>\n",
       "      <td>Store A</td>\n",
       "      <td>9468</td>\n",
       "      <td>0.333721</td>\n",
       "    </tr>\n",
       "    <tr>\n",
       "      <th>4</th>\n",
       "      <td>2023-02-28</td>\n",
       "      <td>28371</td>\n",
       "      <td>Store B</td>\n",
       "      <td>9513</td>\n",
       "      <td>0.335307</td>\n",
       "    </tr>\n",
       "    <tr>\n",
       "      <th>5</th>\n",
       "      <td>2023-02-28</td>\n",
       "      <td>28371</td>\n",
       "      <td>Store C</td>\n",
       "      <td>9390</td>\n",
       "      <td>0.330972</td>\n",
       "    </tr>\n",
       "    <tr>\n",
       "      <th>6</th>\n",
       "      <td>2023-03-31</td>\n",
       "      <td>22810</td>\n",
       "      <td>Store A</td>\n",
       "      <td>7636</td>\n",
       "      <td>0.334765</td>\n",
       "    </tr>\n",
       "    <tr>\n",
       "      <th>7</th>\n",
       "      <td>2023-03-31</td>\n",
       "      <td>22810</td>\n",
       "      <td>Store B</td>\n",
       "      <td>7666</td>\n",
       "      <td>0.336081</td>\n",
       "    </tr>\n",
       "    <tr>\n",
       "      <th>8</th>\n",
       "      <td>2023-03-31</td>\n",
       "      <td>22810</td>\n",
       "      <td>Store C</td>\n",
       "      <td>7508</td>\n",
       "      <td>0.329154</td>\n",
       "    </tr>\n",
       "  </tbody>\n",
       "</table>\n",
       "</div>"
      ],
      "text/plain": [
       "  month_end_dt  company_sales_amt store_nm  store_sales_amt  store_sales_share\n",
       "0   2023-01-31              30819  Store A            10180           0.330316\n",
       "1   2023-01-31              30819  Store B            10442           0.338817\n",
       "2   2023-01-31              30819  Store C            10197           0.330867\n",
       "3   2023-02-28              28371  Store A             9468           0.333721\n",
       "4   2023-02-28              28371  Store B             9513           0.335307\n",
       "5   2023-02-28              28371  Store C             9390           0.330972\n",
       "6   2023-03-31              22810  Store A             7636           0.334765\n",
       "7   2023-03-31              22810  Store B             7666           0.336081\n",
       "8   2023-03-31              22810  Store C             7508           0.329154"
      ]
     },
     "execution_count": 6,
     "metadata": {},
     "output_type": "execute_result"
    }
   ],
   "source": [
    "query = '''\n",
    "SELECT  \n",
    "       -- найдём последнюю дату месяца\n",
    "       DISTINCT DATE_TRUNC('month', sl.dt)::date + INTERVAL '1 month - 1 day' AS month_end_dt,\n",
    "       \n",
    "       COUNT(amt)\n",
    "         OVER (PARTITION BY DATE_TRUNC('month', sl.dt))  AS   company_sales_amt,\n",
    "         \n",
    "       st.store_nm ,\n",
    "       \n",
    "       COUNT(amt)\n",
    "         OVER (PARTITION BY DATE_TRUNC('month', sl.dt), sl.store_id) AS store_sales_amt,\n",
    "         \n",
    "       COUNT(amt)\n",
    "         OVER (PARTITION BY DATE_TRUNC('month', sl.dt), sl.store_id) /\n",
    "         (COUNT(amt)\n",
    "       OVER (PARTITION BY DATE_TRUNC('month', sl.dt)))::float AS   store_sales_share\n",
    "       \n",
    "FROM   sales AS sl\n",
    "       JOIN stores AS st\n",
    "         ON sl.store_id = st.store_id;\n",
    "         '''\n",
    "pd.read_sql_query(query, con=engine)"
   ]
  },
  {
   "attachments": {
    "image.png": {
     "image/png": "[encoded data removed]"
    }
   },
   "cell_type": "markdown",
   "metadata": {
    "id": "EDsLFw71Iaq8"
   },
   "source": [
    "## Задача 3\n",
    "\n",
    "### 1. \n",
    "В таблице calls хранятся данные всех звонков абонентов за отчетный месяц. В поле roaming указан факт нахождения абонента в роуминге во время звонка:\n",
    "\n",
    "  *  1 - абонент был в роуминге;\n",
    "   *  0 - абонент не был в роуминге.\n",
    "   ![image.png](attachment:image.png)\n",
    "   \n",
    "Напишите SQL запрос, определяющий уникальные id абонентов, которые хоть раз\n",
    "звонили в роуминге за отчетный месяц."
   ]
  },
  {
   "cell_type": "code",
   "execution_count": 7,
   "metadata": {
    "id": "TFCneQ9SIdH_"
   },
   "outputs": [
    {
     "data": {
      "text/html": [
       "<div>\n",
       "<style scoped>\n",
       "    .dataframe tbody tr th:only-of-type {\n",
       "        vertical-align: middle;\n",
       "    }\n",
       "\n",
       "    .dataframe tbody tr th {\n",
       "        vertical-align: top;\n",
       "    }\n",
       "\n",
       "    .dataframe thead th {\n",
       "        text-align: right;\n",
       "    }\n",
       "</style>\n",
       "<table border=\"1\" class=\"dataframe\">\n",
       "  <thead>\n",
       "    <tr style=\"text-align: right;\">\n",
       "      <th></th>\n",
       "      <th>id_abon</th>\n",
       "    </tr>\n",
       "  </thead>\n",
       "  <tbody>\n",
       "    <tr>\n",
       "      <th>0</th>\n",
       "      <td>42</td>\n",
       "    </tr>\n",
       "    <tr>\n",
       "      <th>1</th>\n",
       "      <td>29</td>\n",
       "    </tr>\n",
       "    <tr>\n",
       "      <th>2</th>\n",
       "      <td>4</td>\n",
       "    </tr>\n",
       "    <tr>\n",
       "      <th>3</th>\n",
       "      <td>34</td>\n",
       "    </tr>\n",
       "    <tr>\n",
       "      <th>4</th>\n",
       "      <td>41</td>\n",
       "    </tr>\n",
       "  </tbody>\n",
       "</table>\n",
       "</div>"
      ],
      "text/plain": [
       "   id_abon\n",
       "0       42\n",
       "1       29\n",
       "2        4\n",
       "3       34\n",
       "4       41"
      ]
     },
     "execution_count": 7,
     "metadata": {},
     "output_type": "execute_result"
    }
   ],
   "source": [
    "query = '''\n",
    "SELECT DISTINCT id_abon\n",
    "FROM   calls\n",
    "WHERE  roaming <> 0;\n",
    "'''\n",
    "pd.read_sql_query(query, con=engine).head()"
   ]
  },
  {
   "cell_type": "markdown",
   "metadata": {
    "id": "0EFdW6jvIfD5"
   },
   "source": [
    "### 2. \n",
    "В таблице abnt хранятся уникальные id всех абонентов, совершавших звонки за\n",
    "отчетный месяц. В таблице roam хранятся уникальные id абонентов, которые\n",
    "были в роуминге за отчетный месяц.\n",
    "Напишите SQL запрос, результатом которого будут все id абонентов, которые не\n",
    "были в роуминге в текущем месяце."
   ]
  },
  {
   "cell_type": "code",
   "execution_count": 8,
   "metadata": {},
   "outputs": [],
   "source": [
    "# создание необходимых таблиц\n",
    "\n",
    "roam = {'id_abon' : random.sample(range(100), 30),\n",
    "        'clc' : random.sample(range(1000),30)}\n",
    "roam = pd.DataFrame(data=roam, index=range(0, 30))\n",
    "roam.to_sql('roam', con, index=False, if_exists='replace')\n",
    "\n",
    "abnt = {'id_abon' : random.sample(range(100), 30),\n",
    "        'clc' : random.sample(range(1000), 30)}\n",
    "abnt = pd.DataFrame(data=abnt, index=range(0, 30))\n",
    "abnt.to_sql('abnt', con, index=False, if_exists='replace')"
   ]
  },
  {
   "cell_type": "code",
   "execution_count": 9,
   "metadata": {
    "id": "Apo1E9UTIgS-"
   },
   "outputs": [
    {
     "data": {
      "text/html": [
       "<div>\n",
       "<style scoped>\n",
       "    .dataframe tbody tr th:only-of-type {\n",
       "        vertical-align: middle;\n",
       "    }\n",
       "\n",
       "    .dataframe tbody tr th {\n",
       "        vertical-align: top;\n",
       "    }\n",
       "\n",
       "    .dataframe thead th {\n",
       "        text-align: right;\n",
       "    }\n",
       "</style>\n",
       "<table border=\"1\" class=\"dataframe\">\n",
       "  <thead>\n",
       "    <tr style=\"text-align: right;\">\n",
       "      <th></th>\n",
       "      <th>id_abon</th>\n",
       "    </tr>\n",
       "  </thead>\n",
       "  <tbody>\n",
       "    <tr>\n",
       "      <th>0</th>\n",
       "      <td>36</td>\n",
       "    </tr>\n",
       "    <tr>\n",
       "      <th>1</th>\n",
       "      <td>98</td>\n",
       "    </tr>\n",
       "    <tr>\n",
       "      <th>2</th>\n",
       "      <td>31</td>\n",
       "    </tr>\n",
       "    <tr>\n",
       "      <th>3</th>\n",
       "      <td>86</td>\n",
       "    </tr>\n",
       "    <tr>\n",
       "      <th>4</th>\n",
       "      <td>70</td>\n",
       "    </tr>\n",
       "  </tbody>\n",
       "</table>\n",
       "</div>"
      ],
      "text/plain": [
       "   id_abon\n",
       "0       36\n",
       "1       98\n",
       "2       31\n",
       "3       86\n",
       "4       70"
      ]
     },
     "execution_count": 9,
     "metadata": {},
     "output_type": "execute_result"
    }
   ],
   "source": [
    "query = '''\n",
    "SELECT id_abon\n",
    "FROM   abnt\n",
    "WHERE  id_abon NOT IN (SELECT id_abon\n",
    "                       FROM   roam);\n",
    "'''\n",
    "pd.read_sql_query(query, con=con).head()"
   ]
  },
  {
   "attachments": {
    "image.png": {
     "image/png": "[encoded data removed]"
    }
   },
   "cell_type": "markdown",
   "metadata": {
    "id": "ofAgYrCpIkOS"
   },
   "source": [
    "### 3.\n",
    "В таблицах abnt и roam также хранятся данные о тратах абонентов. В таблице\n",
    "abnt есть все начисления абонентов, в таблице roam начисления в роуминге.\n",
    "Таблицы выглядят следующим образом:\n",
    "![image.png](attachment:image.png)\n",
    "\n",
    "Напишите SQL запрос, который выведет всех абонентов с начислениями в\n",
    "домашней сети больше 0.\n",
    "Начисления в домашней сети= все начисления (abnt.clc) - начисления в роуминге\n",
    "(roam.clc)."
   ]
  },
  {
   "cell_type": "code",
   "execution_count": 10,
   "metadata": {
    "id": "tSelV7YBIlgf"
   },
   "outputs": [
    {
     "data": {
      "text/html": [
       "<div>\n",
       "<style scoped>\n",
       "    .dataframe tbody tr th:only-of-type {\n",
       "        vertical-align: middle;\n",
       "    }\n",
       "\n",
       "    .dataframe tbody tr th {\n",
       "        vertical-align: top;\n",
       "    }\n",
       "\n",
       "    .dataframe thead th {\n",
       "        text-align: right;\n",
       "    }\n",
       "</style>\n",
       "<table border=\"1\" class=\"dataframe\">\n",
       "  <thead>\n",
       "    <tr style=\"text-align: right;\">\n",
       "      <th></th>\n",
       "      <th>id_abon</th>\n",
       "      <th>clc_home</th>\n",
       "    </tr>\n",
       "  </thead>\n",
       "  <tbody>\n",
       "    <tr>\n",
       "      <th>0</th>\n",
       "      <td>36</td>\n",
       "      <td>804</td>\n",
       "    </tr>\n",
       "    <tr>\n",
       "      <th>1</th>\n",
       "      <td>98</td>\n",
       "      <td>271</td>\n",
       "    </tr>\n",
       "    <tr>\n",
       "      <th>2</th>\n",
       "      <td>31</td>\n",
       "      <td>459</td>\n",
       "    </tr>\n",
       "    <tr>\n",
       "      <th>3</th>\n",
       "      <td>86</td>\n",
       "      <td>39</td>\n",
       "    </tr>\n",
       "    <tr>\n",
       "      <th>4</th>\n",
       "      <td>70</td>\n",
       "      <td>536</td>\n",
       "    </tr>\n",
       "  </tbody>\n",
       "</table>\n",
       "</div>"
      ],
      "text/plain": [
       "   id_abon  clc_home\n",
       "0       36       804\n",
       "1       98       271\n",
       "2       31       459\n",
       "3       86        39\n",
       "4       70       536"
      ]
     },
     "execution_count": 10,
     "metadata": {},
     "output_type": "execute_result"
    }
   ],
   "source": [
    "query = '''\n",
    "SELECT abnt.id_abon,\n",
    "       --используем coalesce для работы с null\n",
    "       abnt.clc - COALESCE(roam.clc, 0) AS clc_home\n",
    "FROM   abnt\n",
    "       LEFT JOIN roam\n",
    "         ON abnt.id_abon = roam.id_abon\n",
    "WHERE  abnt.clc - COALESCE(roam.clc, 0) > 0;\n",
    "'''\n",
    "pd.read_sql_query(query, con=con).head()"
   ]
  },
  {
   "cell_type": "markdown",
   "metadata": {
    "id": "MZsv_r4pIn7S"
   },
   "source": [
    "### 4.\n",
    "Используя данные таблицы calls, выведите id всех абонентов, у которых было\n",
    "больше 5 звонков в роуминге."
   ]
  },
  {
   "cell_type": "code",
   "execution_count": 11,
   "metadata": {
    "id": "JLV8MeMsIsMx"
   },
   "outputs": [
    {
     "data": {
      "text/html": [
       "<div>\n",
       "<style scoped>\n",
       "    .dataframe tbody tr th:only-of-type {\n",
       "        vertical-align: middle;\n",
       "    }\n",
       "\n",
       "    .dataframe tbody tr th {\n",
       "        vertical-align: top;\n",
       "    }\n",
       "\n",
       "    .dataframe thead th {\n",
       "        text-align: right;\n",
       "    }\n",
       "</style>\n",
       "<table border=\"1\" class=\"dataframe\">\n",
       "  <thead>\n",
       "    <tr style=\"text-align: right;\">\n",
       "      <th></th>\n",
       "      <th>id_abon</th>\n",
       "    </tr>\n",
       "  </thead>\n",
       "  <tbody>\n",
       "    <tr>\n",
       "      <th>0</th>\n",
       "      <td>42</td>\n",
       "    </tr>\n",
       "    <tr>\n",
       "      <th>1</th>\n",
       "      <td>29</td>\n",
       "    </tr>\n",
       "    <tr>\n",
       "      <th>2</th>\n",
       "      <td>4</td>\n",
       "    </tr>\n",
       "    <tr>\n",
       "      <th>3</th>\n",
       "      <td>34</td>\n",
       "    </tr>\n",
       "    <tr>\n",
       "      <th>4</th>\n",
       "      <td>41</td>\n",
       "    </tr>\n",
       "  </tbody>\n",
       "</table>\n",
       "</div>"
      ],
      "text/plain": [
       "   id_abon\n",
       "0       42\n",
       "1       29\n",
       "2        4\n",
       "3       34\n",
       "4       41"
      ]
     },
     "execution_count": 11,
     "metadata": {},
     "output_type": "execute_result"
    }
   ],
   "source": [
    "query = '''\n",
    "WITH roam_calls_sum\n",
    "     AS (SELECT id_abon,\n",
    "                SUM(roaming) AS roam_calls\n",
    "         FROM   calls\n",
    "         GROUP  BY id_abon)\n",
    "SELECT id_abon\n",
    "FROM   roam_calls_sum\n",
    "WHERE  roam_calls > 5;\n",
    "'''\n",
    "pd.read_sql_query(query, con=engine).head()"
   ]
  },
  {
   "cell_type": "markdown",
   "metadata": {
    "id": "YBK4dyZtIoFC"
   },
   "source": [
    "### 5. \n",
    "Используя данные таблицы calls, выведите периоды нахождения абонентов в\n",
    "роуминге. Время пребывания в роуминге определяется непрерывной последовательностью звонков в роуминге."
   ]
  },
  {
   "cell_type": "code",
   "execution_count": 12,
   "metadata": {
    "id": "phHOTzhZIvB6"
   },
   "outputs": [
    {
     "data": {
      "text/html": [
       "<div>\n",
       "<style scoped>\n",
       "    .dataframe tbody tr th:only-of-type {\n",
       "        vertical-align: middle;\n",
       "    }\n",
       "\n",
       "    .dataframe tbody tr th {\n",
       "        vertical-align: top;\n",
       "    }\n",
       "\n",
       "    .dataframe thead th {\n",
       "        text-align: right;\n",
       "    }\n",
       "</style>\n",
       "<table border=\"1\" class=\"dataframe\">\n",
       "  <thead>\n",
       "    <tr style=\"text-align: right;\">\n",
       "      <th></th>\n",
       "      <th>id_abon</th>\n",
       "      <th>roam_start</th>\n",
       "      <th>roam_end</th>\n",
       "    </tr>\n",
       "  </thead>\n",
       "  <tbody>\n",
       "    <tr>\n",
       "      <th>0</th>\n",
       "      <td>1</td>\n",
       "      <td>2023-01-04</td>\n",
       "      <td>2023-01-04</td>\n",
       "    </tr>\n",
       "    <tr>\n",
       "      <th>1</th>\n",
       "      <td>1</td>\n",
       "      <td>2023-01-07</td>\n",
       "      <td>2023-01-13</td>\n",
       "    </tr>\n",
       "    <tr>\n",
       "      <th>2</th>\n",
       "      <td>1</td>\n",
       "      <td>2023-01-15</td>\n",
       "      <td>2023-01-16</td>\n",
       "    </tr>\n",
       "    <tr>\n",
       "      <th>3</th>\n",
       "      <td>1</td>\n",
       "      <td>2023-01-22</td>\n",
       "      <td>2023-01-22</td>\n",
       "    </tr>\n",
       "    <tr>\n",
       "      <th>4</th>\n",
       "      <td>1</td>\n",
       "      <td>2023-01-28</td>\n",
       "      <td>2023-01-29</td>\n",
       "    </tr>\n",
       "    <tr>\n",
       "      <th>5</th>\n",
       "      <td>2</td>\n",
       "      <td>2023-01-17</td>\n",
       "      <td>2023-01-18</td>\n",
       "    </tr>\n",
       "    <tr>\n",
       "      <th>6</th>\n",
       "      <td>2</td>\n",
       "      <td>2023-01-25</td>\n",
       "      <td>2023-01-25</td>\n",
       "    </tr>\n",
       "    <tr>\n",
       "      <th>7</th>\n",
       "      <td>2</td>\n",
       "      <td>2023-01-27</td>\n",
       "      <td>2023-01-27</td>\n",
       "    </tr>\n",
       "    <tr>\n",
       "      <th>8</th>\n",
       "      <td>3</td>\n",
       "      <td>2023-01-02</td>\n",
       "      <td>2023-01-02</td>\n",
       "    </tr>\n",
       "    <tr>\n",
       "      <th>9</th>\n",
       "      <td>3</td>\n",
       "      <td>2023-01-04</td>\n",
       "      <td>2023-01-04</td>\n",
       "    </tr>\n",
       "  </tbody>\n",
       "</table>\n",
       "</div>"
      ],
      "text/plain": [
       "   id_abon  roam_start    roam_end\n",
       "0        1  2023-01-04  2023-01-04\n",
       "1        1  2023-01-07  2023-01-13\n",
       "2        1  2023-01-15  2023-01-16\n",
       "3        1  2023-01-22  2023-01-22\n",
       "4        1  2023-01-28  2023-01-29\n",
       "5        2  2023-01-17  2023-01-18\n",
       "6        2  2023-01-25  2023-01-25\n",
       "7        2  2023-01-27  2023-01-27\n",
       "8        3  2023-01-02  2023-01-02\n",
       "9        3  2023-01-04  2023-01-04"
      ]
     },
     "execution_count": 12,
     "metadata": {},
     "output_type": "execute_result"
    }
   ],
   "source": [
    "query = '''\n",
    "WITH \n",
    "-- выберем id и даты звонков в роуминге\n",
    "roam_calls\n",
    "     AS (SELECT id_abon,\n",
    "                date::date AS dt\n",
    "         FROM   calls\n",
    "         WHERE  roaming = 1\n",
    "         ORDER BY id_abon, date::date),\n",
    "--создадим столбец с группой - для определения непрерывной последовательности\n",
    "grp_date_table\n",
    "     AS (SELECT id_abon,\n",
    "                dt,\n",
    "                dt  - (DENSE_RANK() OVER (\n",
    "                                     PARTITION BY id_abon\n",
    "                                     ORDER BY dt)) * (INTERVAL  '1 day')  AS grp\n",
    "              FROM roam_calls)\n",
    "              \n",
    "-- выведем информацию,сгруппированную по столбцу grp             \n",
    "SELECT id_abon,\n",
    "       MIN(dt) AS roam_start,\n",
    "       MAX(dt) AS roam_end\n",
    "FROM   grp_date_table\n",
    "GROUP  BY id_abon,\n",
    "          grp\n",
    "ORDER BY id_abon, roam_start; \n",
    "'''\n",
    "pd.read_sql_query(query, con=engine).head(10)"
   ]
  },
  {
   "cell_type": "markdown",
   "metadata": {
    "id": "35nt0YByIyIO"
   },
   "source": [
    "## Задача 4"
   ]
  },
  {
   "attachments": {
    "image.png": {
     "image/png": "[encoded data removed]"
    }
   },
   "cell_type": "markdown",
   "metadata": {
    "id": "NRvJDGJuD4S4"
   },
   "source": [
    "У вас есть две таблицы:\n",
    "* t1 - данные по заявкам на Подбор кредита с сайта Сравни.ру;\n",
    "* t2 - выгрузка банка о решениях по выдаче кредита.\n",
    "\n",
    "Напишите SQL-запрос, содержащий всех пользователей, получивших кредит.\n",
    "\n",
    "![image.png](attachment:image.png)"
   ]
  },
  {
   "cell_type": "code",
   "execution_count": 13,
   "metadata": {},
   "outputs": [],
   "source": [
    "# создание таблиц\n",
    "\n",
    "t1 = {'id' : random.sample(range(1000), 100), \n",
    "      'surname' : np.random.choice(['Иванов', 'Петров', 'Сидоров'], 100),\n",
    "     'birthday' : np.random.choice(pd.date_range('1930-01-01', '2005-01-01'), 100),\n",
    "     'amount' : np.random.randint(1, 10, 100),\n",
    "     'salary' : np.random.randint(1, 10, 100)}\n",
    "t1 = pd.DataFrame(data=t1, index=range(0, 100))\n",
    "t1.to_sql('t1', con, index=False, if_exists='replace')\n",
    "\n",
    "\n",
    "t2 = {'id' : random.sample(range(1000), 100), \n",
    "     'status' : np.random.choice(['выдан', 'отказ'], 100)}\n",
    "t2 = pd.DataFrame(data=t2, index=range(0, 100))\n",
    "t2.to_sql('t2', con, index=False, if_exists='replace')"
   ]
  },
  {
   "cell_type": "code",
   "execution_count": 14,
   "metadata": {
    "id": "jLmBZKcyI0Vm"
   },
   "outputs": [
    {
     "data": {
      "text/html": [
       "<div>\n",
       "<style scoped>\n",
       "    .dataframe tbody tr th:only-of-type {\n",
       "        vertical-align: middle;\n",
       "    }\n",
       "\n",
       "    .dataframe tbody tr th {\n",
       "        vertical-align: top;\n",
       "    }\n",
       "\n",
       "    .dataframe thead th {\n",
       "        text-align: right;\n",
       "    }\n",
       "</style>\n",
       "<table border=\"1\" class=\"dataframe\">\n",
       "  <thead>\n",
       "    <tr style=\"text-align: right;\">\n",
       "      <th></th>\n",
       "      <th>id</th>\n",
       "      <th>surname</th>\n",
       "    </tr>\n",
       "  </thead>\n",
       "  <tbody>\n",
       "    <tr>\n",
       "      <th>0</th>\n",
       "      <td>270</td>\n",
       "      <td>Иванов</td>\n",
       "    </tr>\n",
       "    <tr>\n",
       "      <th>1</th>\n",
       "      <td>362</td>\n",
       "      <td>Петров</td>\n",
       "    </tr>\n",
       "    <tr>\n",
       "      <th>2</th>\n",
       "      <td>558</td>\n",
       "      <td>Петров</td>\n",
       "    </tr>\n",
       "    <tr>\n",
       "      <th>3</th>\n",
       "      <td>640</td>\n",
       "      <td>Петров</td>\n",
       "    </tr>\n",
       "    <tr>\n",
       "      <th>4</th>\n",
       "      <td>850</td>\n",
       "      <td>Петров</td>\n",
       "    </tr>\n",
       "    <tr>\n",
       "      <th>5</th>\n",
       "      <td>156</td>\n",
       "      <td>Сидоров</td>\n",
       "    </tr>\n",
       "  </tbody>\n",
       "</table>\n",
       "</div>"
      ],
      "text/plain": [
       "    id  surname\n",
       "0  270   Иванов\n",
       "1  362   Петров\n",
       "2  558   Петров\n",
       "3  640   Петров\n",
       "4  850   Петров\n",
       "5  156  Сидоров"
      ]
     },
     "execution_count": 14,
     "metadata": {},
     "output_type": "execute_result"
    }
   ],
   "source": [
    "query = '''\n",
    "SELECT id,\n",
    "       surname\n",
    "FROM   t1\n",
    "WHERE  id IN (SELECT id\n",
    "         FROM   t2\n",
    "         WHERE  status = 'выдан');\n",
    "'''\n",
    "pd.read_sql_query(query, con=con)"
   ]
  }
 ],
 "metadata": {
  "colab": {
   "provenance": [],
   "toc_visible": true
  },
  "kernelspec": {
   "display_name": "Python 3",
   "language": "python",
   "name": "python3"
  },
  "language_info": {
   "codemirror_mode": {
    "name": "ipython",
    "version": 3
   },
   "file_extension": ".py",
   "mimetype": "text/x-python",
   "name": "python",
   "nbconvert_exporter": "python",
   "pygments_lexer": "ipython3",
   "version": "3.6.9"
  },
  "toc": {
   "base_numbering": 1,
   "nav_menu": {},
   "number_sections": false,
   "sideBar": true,
   "skip_h1_title": true,
   "title_cell": "Содержание",
   "title_sidebar": "Содержание",
   "toc_cell": true,
   "toc_position": {
    "height": "calc(100% - 180px)",
    "left": "10px",
    "top": "150px",
    "width": "384px"
   },
   "toc_section_display": true,
   "toc_window_display": false
  }
 },
 "nbformat": 4,
 "nbformat_minor": 1
}
